{
 "cells": [
  {
   "cell_type": "markdown",
   "metadata": {
    "id": "bN9SbZGfgo8j"
   },
   "source": [
    "# Loading Spark"
   ]
  },
  {
   "cell_type": "code",
   "execution_count": 1,
   "metadata": {
    "colab": {
     "base_uri": "https://localhost:8080/",
     "height": 216
    },
    "id": "lJYfRV-birj-",
    "outputId": "7df57f48-6546-42d1-9233-168b4f99faff"
   },
   "outputs": [
    {
     "data": {
      "application/vnd.jupyter.widget-view+json": {
       "model_id": "0e22a6f3b4f34838b9cd3161b17bb6d9",
       "version_major": 2,
       "version_minor": 0
      },
      "text/plain": [
       "VBox()"
      ]
     },
     "metadata": {},
     "output_type": "display_data"
    },
    {
     "name": "stdout",
     "output_type": "stream",
     "text": [
      "Starting Spark application\n"
     ]
    },
    {
     "data": {
      "text/html": [
       "<table>\n",
       "<tr><th>ID</th><th>YARN Application ID</th><th>Kind</th><th>State</th><th>Spark UI</th><th>Driver log</th><th>Current session?</th></tr><tr><td>0</td><td>application_1638061304448_0001</td><td>pyspark</td><td>idle</td><td><a target=\"_blank\" href=\"http://ip-172-31-59-63.ec2.internal:20888/proxy/application_1638061304448_0001/\">Link</a></td><td><a target=\"_blank\" href=\"http://ip-172-31-55-78.ec2.internal:8042/node/containerlogs/container_1638061304448_0001_01_000001/livy\">Link</a></td><td>✔</td></tr></table>"
      ],
      "text/plain": [
       "<IPython.core.display.HTML object>"
      ]
     },
     "metadata": {},
     "output_type": "display_data"
    },
    {
     "data": {
      "application/vnd.jupyter.widget-view+json": {
       "model_id": "",
       "version_major": 2,
       "version_minor": 0
      },
      "text/plain": [
       "FloatProgress(value=0.0, bar_style='info', description='Progress:', layout=Layout(height='25px', width='50%'),…"
      ]
     },
     "metadata": {},
     "output_type": "display_data"
    },
    {
     "name": "stdout",
     "output_type": "stream",
     "text": [
      "SparkSession available as 'spark'.\n"
     ]
    },
    {
     "data": {
      "application/vnd.jupyter.widget-view+json": {
       "model_id": "",
       "version_major": 2,
       "version_minor": 0
      },
      "text/plain": [
       "FloatProgress(value=0.0, bar_style='info', description='Progress:', layout=Layout(height='25px', width='50%'),…"
      ]
     },
     "metadata": {},
     "output_type": "display_data"
    },
    {
     "name": "stdout",
     "output_type": "stream",
     "text": [
      "'2.4.5-amzn-0'"
     ]
    }
   ],
   "source": [
    "sc.version"
   ]
  },
  {
   "cell_type": "markdown",
   "metadata": {
    "id": "7GmMg3RnxHv8"
   },
   "source": [
    "# Preprocessing "
   ]
  },
  {
   "cell_type": "code",
   "execution_count": 58,
   "metadata": {
    "id": "ASqVxpV0xlGb"
   },
   "outputs": [
    {
     "data": {
      "application/vnd.jupyter.widget-view+json": {
       "model_id": "e63db481c2a44cb3a3fee742311639b4",
       "version_major": 2,
       "version_minor": 0
      },
      "text/plain": [
       "VBox()"
      ]
     },
     "metadata": {},
     "output_type": "display_data"
    },
    {
     "data": {
      "application/vnd.jupyter.widget-view+json": {
       "model_id": "",
       "version_major": 2,
       "version_minor": 0
      },
      "text/plain": [
       "FloatProgress(value=0.0, bar_style='info', description='Progress:', layout=Layout(height='25px', width='50%'),…"
      ]
     },
     "metadata": {},
     "output_type": "display_data"
    }
   ],
   "source": [
    "# Reading the csv file from S3 bucket\n",
    "df = spark.read.csv (\"s3://isaacgarciateyunbucket/adult.csv\", header = True, inferSchema = True)"
   ]
  },
  {
   "cell_type": "markdown",
   "metadata": {
    "id": "YlLdiuDhzaYq"
   },
   "source": [
    "We read the csv file and assigning to a variable df. We set header = True to make sure the header columns are not considered as a row and also set inferSchema = True to get Spark to infer the schema of each column. "
   ]
  },
  {
   "cell_type": "code",
   "execution_count": 59,
   "metadata": {
    "colab": {
     "base_uri": "https://localhost:8080/"
    },
    "id": "BC4CM2LHxm2p",
    "outputId": "5a96e06e-d038-4609-8c64-1cc5543108c3"
   },
   "outputs": [
    {
     "data": {
      "application/vnd.jupyter.widget-view+json": {
       "model_id": "2c45f46e51884fcba8f9179ee290840d",
       "version_major": 2,
       "version_minor": 0
      },
      "text/plain": [
       "VBox()"
      ]
     },
     "metadata": {},
     "output_type": "display_data"
    },
    {
     "data": {
      "application/vnd.jupyter.widget-view+json": {
       "model_id": "",
       "version_major": 2,
       "version_minor": 0
      },
      "text/plain": [
       "FloatProgress(value=0.0, bar_style='info', description='Progress:', layout=Layout(height='25px', width='50%'),…"
      ]
     },
     "metadata": {},
     "output_type": "display_data"
    },
    {
     "name": "stdout",
     "output_type": "stream",
     "text": [
      "+---+---------+------+------------+-------------+--------------+-----------------+-------------+-----+------+------------+------------+--------------+--------------+------+\n",
      "|age|workclass|fnlwgt|   education|education.num|marital.status|       occupation| relationship| race|   sex|capital.gain|capital.loss|hours.per.week|native.country|income|\n",
      "+---+---------+------+------------+-------------+--------------+-----------------+-------------+-----+------+------------+------------+--------------+--------------+------+\n",
      "| 90|        ?| 77053|     HS-grad|            9|       Widowed|                ?|Not-in-family|White|Female|           0|        4356|            40| United-States| <=50K|\n",
      "| 82|  Private|132870|     HS-grad|            9|       Widowed|  Exec-managerial|Not-in-family|White|Female|           0|        4356|            18| United-States| <=50K|\n",
      "| 66|        ?|186061|Some-college|           10|       Widowed|                ?|    Unmarried|Black|Female|           0|        4356|            40| United-States| <=50K|\n",
      "| 54|  Private|140359|     7th-8th|            4|      Divorced|Machine-op-inspct|    Unmarried|White|Female|           0|        3900|            40| United-States| <=50K|\n",
      "| 41|  Private|264663|Some-college|           10|     Separated|   Prof-specialty|    Own-child|White|Female|           0|        3900|            40| United-States| <=50K|\n",
      "+---+---------+------+------------+-------------+--------------+-----------------+-------------+-----+------+------------+------------+--------------+--------------+------+\n",
      "only showing top 5 rows"
     ]
    }
   ],
   "source": [
    "# Displaying the top 5 rows of the dataset\n",
    "df.show(5)"
   ]
  },
  {
   "cell_type": "markdown",
   "metadata": {
    "id": "fho97_760F4f"
   },
   "source": [
    "We displayed the top 5 rows and immediately noticed that we have ? values in some of the columns. We also noticed that the column names are not in the right format. "
   ]
  },
  {
   "cell_type": "code",
   "execution_count": 60,
   "metadata": {
    "colab": {
     "base_uri": "https://localhost:8080/"
    },
    "id": "6nuYmbqMxp-D",
    "outputId": "67354c09-78eb-48f2-f9f1-2851a2da9181"
   },
   "outputs": [
    {
     "data": {
      "application/vnd.jupyter.widget-view+json": {
       "model_id": "11b67c275ffd4ec3b8fc1258df0b116e",
       "version_major": 2,
       "version_minor": 0
      },
      "text/plain": [
       "VBox()"
      ]
     },
     "metadata": {},
     "output_type": "display_data"
    },
    {
     "data": {
      "application/vnd.jupyter.widget-view+json": {
       "model_id": "",
       "version_major": 2,
       "version_minor": 0
      },
      "text/plain": [
       "FloatProgress(value=0.0, bar_style='info', description='Progress:', layout=Layout(height='25px', width='50%'),…"
      ]
     },
     "metadata": {},
     "output_type": "display_data"
    },
    {
     "name": "stdout",
     "output_type": "stream",
     "text": [
      "+---+---------+------+---------+-------------+--------------+----------+-------------+-----+------+------------+------------+--------------+--------------+------+\n",
      "|age|workclass|fnlwgt|education|education_num|marital_status|occupation| relationship| race|   sex|capital_gain|capital_loss|hours_per_week|native_country|income|\n",
      "+---+---------+------+---------+-------------+--------------+----------+-------------+-----+------+------------+------------+--------------+--------------+------+\n",
      "| 90|        ?| 77053|  HS-grad|            9|       Widowed|         ?|Not-in-family|White|Female|           0|        4356|            40| United-States| <=50K|\n",
      "+---+---------+------+---------+-------------+--------------+----------+-------------+-----+------+------------+------------+--------------+--------------+------+\n",
      "only showing top 1 row"
     ]
    }
   ],
   "source": [
    "# Changing \".\" from column names to \"_\"\n",
    "df = df.withColumnRenamed(\"education.num\", \"education_num\")\\\n",
    "       .withColumnRenamed(\"marital.status\", \"marital_status\")\\\n",
    "       .withColumnRenamed(\"capital.gain\", \"capital_gain\")\\\n",
    "       .withColumnRenamed(\"capital.loss\", \"capital_loss\")\\\n",
    "       .withColumnRenamed(\"hours.per.week\", \"hours_per_week\")\\\n",
    "       .withColumnRenamed(\"native.country\", \"native_country\")\n",
    "       \n",
    "# Displaying the frist row\n",
    "df.show(1)"
   ]
  },
  {
   "cell_type": "markdown",
   "metadata": {
    "id": "NWWwhFV-0bO4"
   },
   "source": [
    "We changed the column names to appropiate formats and display a row to make sure the changes are in palced. "
   ]
  },
  {
   "cell_type": "code",
   "execution_count": 61,
   "metadata": {
    "colab": {
     "base_uri": "https://localhost:8080/"
    },
    "id": "iRBt-c7nxsUG",
    "outputId": "277d51ef-2579-42e0-d74b-1b00be962600"
   },
   "outputs": [
    {
     "data": {
      "application/vnd.jupyter.widget-view+json": {
       "model_id": "4674ab11dced4ab7be979c3a6c99c39d",
       "version_major": 2,
       "version_minor": 0
      },
      "text/plain": [
       "VBox()"
      ]
     },
     "metadata": {},
     "output_type": "display_data"
    },
    {
     "data": {
      "application/vnd.jupyter.widget-view+json": {
       "model_id": "",
       "version_major": 2,
       "version_minor": 0
      },
      "text/plain": [
       "FloatProgress(value=0.0, bar_style='info', description='Progress:', layout=Layout(height='25px', width='50%'),…"
      ]
     },
     "metadata": {},
     "output_type": "display_data"
    },
    {
     "name": "stdout",
     "output_type": "stream",
     "text": [
      "root\n",
      " |-- age: integer (nullable = true)\n",
      " |-- workclass: string (nullable = true)\n",
      " |-- fnlwgt: integer (nullable = true)\n",
      " |-- education: string (nullable = true)\n",
      " |-- education_num: integer (nullable = true)\n",
      " |-- marital_status: string (nullable = true)\n",
      " |-- occupation: string (nullable = true)\n",
      " |-- relationship: string (nullable = true)\n",
      " |-- race: string (nullable = true)\n",
      " |-- sex: string (nullable = true)\n",
      " |-- capital_gain: integer (nullable = true)\n",
      " |-- capital_loss: integer (nullable = true)\n",
      " |-- hours_per_week: integer (nullable = true)\n",
      " |-- native_country: string (nullable = true)\n",
      " |-- income: string (nullable = true)"
     ]
    }
   ],
   "source": [
    "# Columns Discription\n",
    "df.printSchema()"
   ]
  },
  {
   "cell_type": "markdown",
   "metadata": {
    "id": "oDpw-pHi0uZS"
   },
   "source": [
    "We printed out the schema to see if the columns are in wrong data types. It seemed that all the columns are in right data types. "
   ]
  },
  {
   "cell_type": "code",
   "execution_count": 62,
   "metadata": {
    "colab": {
     "base_uri": "https://localhost:8080/"
    },
    "id": "rVaAujDdxy3F",
    "outputId": "e026173d-1d17-4bc3-a806-377382de65ca"
   },
   "outputs": [
    {
     "data": {
      "application/vnd.jupyter.widget-view+json": {
       "model_id": "eeb93db6b7584c5da5059c55c2db2f89",
       "version_major": 2,
       "version_minor": 0
      },
      "text/plain": [
       "VBox()"
      ]
     },
     "metadata": {},
     "output_type": "display_data"
    },
    {
     "data": {
      "application/vnd.jupyter.widget-view+json": {
       "model_id": "",
       "version_major": 2,
       "version_minor": 0
      },
      "text/plain": [
       "FloatProgress(value=0.0, bar_style='info', description='Progress:', layout=Layout(height='25px', width='50%'),…"
      ]
     },
     "metadata": {},
     "output_type": "display_data"
    },
    {
     "name": "stdout",
     "output_type": "stream",
     "text": [
      "(32561, 32537)"
     ]
    }
   ],
   "source": [
    "# Checking exact duplicates\n",
    "df.count(), df.distinct().count()"
   ]
  },
  {
   "cell_type": "markdown",
   "metadata": {
    "id": "uzQxjsjG1CuJ"
   },
   "source": [
    "We checked the count to see if there are exact duplicated rows in the dataset and there seem to be a few. "
   ]
  },
  {
   "cell_type": "code",
   "execution_count": 63,
   "metadata": {
    "colab": {
     "base_uri": "https://localhost:8080/"
    },
    "id": "dBIp0rHqyBcH",
    "outputId": "96fe2bd2-4182-4e21-e01d-fc2bf0f9d68b"
   },
   "outputs": [
    {
     "data": {
      "application/vnd.jupyter.widget-view+json": {
       "model_id": "75ceab6529574ac9b150692e9e814561",
       "version_major": 2,
       "version_minor": 0
      },
      "text/plain": [
       "VBox()"
      ]
     },
     "metadata": {},
     "output_type": "display_data"
    },
    {
     "data": {
      "application/vnd.jupyter.widget-view+json": {
       "model_id": "",
       "version_major": 2,
       "version_minor": 0
      },
      "text/plain": [
       "FloatProgress(value=0.0, bar_style='info', description='Progress:', layout=Layout(height='25px', width='50%'),…"
      ]
     },
     "metadata": {},
     "output_type": "display_data"
    },
    {
     "name": "stdout",
     "output_type": "stream",
     "text": [
      "(32537, 32561)"
     ]
    }
   ],
   "source": [
    "# Dropping the exact duplicated rows\n",
    "df1 = df.dropDuplicates()\n",
    "\n",
    "# Counting the number of rows of the new_df\n",
    "df1.count(),df.count()"
   ]
  },
  {
   "cell_type": "markdown",
   "metadata": {
    "id": "fNY-rpqA1Qor"
   },
   "source": [
    "We dropped the exact duplicated rows and re-count the data with a new name. "
   ]
  },
  {
   "cell_type": "code",
   "execution_count": 64,
   "metadata": {
    "id": "GVTx9p91yMo0"
   },
   "outputs": [
    {
     "data": {
      "application/vnd.jupyter.widget-view+json": {
       "model_id": "46485876e8664758b35577bbdadc6382",
       "version_major": 2,
       "version_minor": 0
      },
      "text/plain": [
       "VBox()"
      ]
     },
     "metadata": {},
     "output_type": "display_data"
    },
    {
     "data": {
      "application/vnd.jupyter.widget-view+json": {
       "model_id": "",
       "version_major": 2,
       "version_minor": 0
      },
      "text/plain": [
       "FloatProgress(value=0.0, bar_style='info', description='Progress:', layout=Layout(height='25px', width='50%'),…"
      ]
     },
     "metadata": {},
     "output_type": "display_data"
    }
   ],
   "source": [
    "# Dropping rows with '?' values\n",
    "df_clean = df1.filter(\n",
    "    ((df1.workclass != \"?\")\n",
    "    & (df1.occupation != \"?\")\n",
    "    & (df1.native_country != \"?\"))\n",
    ")\n"
   ]
  },
  {
   "cell_type": "markdown",
   "metadata": {
    "id": "Lf7ludIO1fqA"
   },
   "source": [
    "We filtered out the ? values from the certain columns and assinged the dataset to a new name. "
   ]
  },
  {
   "cell_type": "code",
   "execution_count": 65,
   "metadata": {
    "colab": {
     "base_uri": "https://localhost:8080/"
    },
    "id": "IVaV-vMxyUIr",
    "outputId": "9eb50e84-121d-497b-ed2e-6a63097c2fae"
   },
   "outputs": [
    {
     "data": {
      "application/vnd.jupyter.widget-view+json": {
       "model_id": "d013437dc53140138a0b5e2709810fd7",
       "version_major": 2,
       "version_minor": 0
      },
      "text/plain": [
       "VBox()"
      ]
     },
     "metadata": {},
     "output_type": "display_data"
    },
    {
     "data": {
      "application/vnd.jupyter.widget-view+json": {
       "model_id": "",
       "version_major": 2,
       "version_minor": 0
      },
      "text/plain": [
       "FloatProgress(value=0.0, bar_style='info', description='Progress:', layout=Layout(height='25px', width='50%'),…"
      ]
     },
     "metadata": {},
     "output_type": "display_data"
    },
    {
     "name": "stdout",
     "output_type": "stream",
     "text": [
      "+---+---------+------+---------+-------------+--------------+----------+------------+----+---+------------+------------+--------------+--------------+------+\n",
      "|age|workclass|fnlwgt|education|education_num|marital_status|occupation|relationship|race|sex|capital_gain|capital_loss|hours_per_week|native_country|income|\n",
      "+---+---------+------+---------+-------------+--------------+----------+------------+----+---+------------+------------+--------------+--------------+------+\n",
      "|  0|        0|     0|        0|            0|             0|         0|           0|   0|  0|           0|           0|             0|             0|     0|\n",
      "+---+---------+------+---------+-------------+--------------+----------+------------+----+---+------------+------------+--------------+--------------+------+"
     ]
    }
   ],
   "source": [
    "from pyspark.sql.functions import isnan, when, count, col\n",
    "\n",
    "# Checking all columns to ensure all Nan values have been dropped\n",
    "df_clean.select([count(when(isnan(c), c)).alias(c) for c in df_clean.columns]).show()"
   ]
  },
  {
   "cell_type": "markdown",
   "metadata": {
    "id": "Hr5MS_Wn10I0"
   },
   "source": [
    "Double checking to see if there's any NAN or NULL vlaues left in any of the columns. It seemed to be all NAN and NULL values have been cleaned up. "
   ]
  },
  {
   "cell_type": "code",
   "execution_count": 66,
   "metadata": {
    "colab": {
     "base_uri": "https://localhost:8080/"
    },
    "id": "cM67Jy7HyYen",
    "outputId": "94200bf0-5169-4e96-c632-5cc4e3352f93"
   },
   "outputs": [
    {
     "data": {
      "application/vnd.jupyter.widget-view+json": {
       "model_id": "6bf0871c0d4a436eb62c3bbedf1935bc",
       "version_major": 2,
       "version_minor": 0
      },
      "text/plain": [
       "VBox()"
      ]
     },
     "metadata": {},
     "output_type": "display_data"
    },
    {
     "data": {
      "application/vnd.jupyter.widget-view+json": {
       "model_id": "",
       "version_major": 2,
       "version_minor": 0
      },
      "text/plain": [
       "FloatProgress(value=0.0, bar_style='info', description='Progress:', layout=Layout(height='25px', width='50%'),…"
      ]
     },
     "metadata": {},
     "output_type": "display_data"
    },
    {
     "name": "stdout",
     "output_type": "stream",
     "text": [
      "(30139, 32537, 32561)"
     ]
    }
   ],
   "source": [
    "# Displaying the number of rows left\n",
    "df_clean.count(),df1.count(),df.count()"
   ]
  },
  {
   "cell_type": "markdown",
   "metadata": {
    "id": "JEHtgPfH1-b7"
   },
   "source": [
    "We counted the rows of the new dataset to see how much rows we have lost after cleaning up and dropping duplicates. We lost over 2000 rows  either duplicates or with NAN values. "
   ]
  },
  {
   "cell_type": "markdown",
   "metadata": {
    "id": "pcMgxMRu2ZaR"
   },
   "source": [
    "In part 2 of this project, we removed the outliers by using boxplots for suspicious columns. We removed the graphs in this notebook to save time. The following are the columns with outliers and the process that we use to remove outliers from each columns. "
   ]
  },
  {
   "cell_type": "code",
   "execution_count": 67,
   "metadata": {
    "id": "ox3V5V8jypON"
   },
   "outputs": [
    {
     "data": {
      "application/vnd.jupyter.widget-view+json": {
       "model_id": "c32966b83ae14a2682ff91285b4eedb9",
       "version_major": 2,
       "version_minor": 0
      },
      "text/plain": [
       "VBox()"
      ]
     },
     "metadata": {},
     "output_type": "display_data"
    },
    {
     "data": {
      "application/vnd.jupyter.widget-view+json": {
       "model_id": "",
       "version_major": 2,
       "version_minor": 0
      },
      "text/plain": [
       "FloatProgress(value=0.0, bar_style='info', description='Progress:', layout=Layout(height='25px', width='50%'),…"
      ]
     },
     "metadata": {},
     "output_type": "display_data"
    }
   ],
   "source": [
    "#remove outliars from Hours per week\n",
    "df_clean2 = df_clean.filter(\n",
    "     ((df_clean.hours_per_week != '81')\n",
    "    & (df_clean.hours_per_week != '82')\n",
    "    & (df_clean.hours_per_week != '83')\n",
    "    & (df_clean.hours_per_week != '84')\n",
    "    & (df_clean.hours_per_week != '85')\n",
    "    & (df_clean.hours_per_week != '86')\n",
    "    & (df_clean.hours_per_week != '87')\n",
    "    & (df_clean.hours_per_week != '88')\n",
    "    & (df_clean.hours_per_week != '89')\n",
    "    & (df_clean.hours_per_week != '90')\n",
    "    & (df_clean.hours_per_week != '91')\n",
    "    & (df_clean.hours_per_week != '92')\n",
    "    & (df_clean.hours_per_week != '93')\n",
    "    & (df_clean.hours_per_week != '94')\n",
    "    & (df_clean.hours_per_week != '95')\n",
    "    & (df_clean.hours_per_week != '96')\n",
    "    & (df_clean.hours_per_week != '97')\n",
    "    & (df_clean.hours_per_week != '98')\n",
    "    & (df_clean.hours_per_week != '99')\n",
    "   ))"
   ]
  },
  {
   "cell_type": "code",
   "execution_count": 68,
   "metadata": {
    "colab": {
     "base_uri": "https://localhost:8080/"
    },
    "id": "bTsqTrY4ysIh",
    "outputId": "7b7c64b2-0fa0-41e5-952b-f6c981b449fe"
   },
   "outputs": [
    {
     "data": {
      "application/vnd.jupyter.widget-view+json": {
       "model_id": "564d93d833ed40fdb845ccda8c1add3b",
       "version_major": 2,
       "version_minor": 0
      },
      "text/plain": [
       "VBox()"
      ]
     },
     "metadata": {},
     "output_type": "display_data"
    },
    {
     "data": {
      "application/vnd.jupyter.widget-view+json": {
       "model_id": "",
       "version_major": 2,
       "version_minor": 0
      },
      "text/plain": [
       "FloatProgress(value=0.0, bar_style='info', description='Progress:', layout=Layout(height='25px', width='50%'),…"
      ]
     },
     "metadata": {},
     "output_type": "display_data"
    },
    {
     "name": "stdout",
     "output_type": "stream",
     "text": [
      "(30139, 29944)"
     ]
    }
   ],
   "source": [
    "# Checking the count of dataset after removing outliers\n",
    "df_clean.count(),df_clean2.count()"
   ]
  },
  {
   "cell_type": "code",
   "execution_count": 69,
   "metadata": {
    "id": "UmFe0uPVyxNq"
   },
   "outputs": [
    {
     "data": {
      "application/vnd.jupyter.widget-view+json": {
       "model_id": "297ccdd44630482aa7a928e3783a8395",
       "version_major": 2,
       "version_minor": 0
      },
      "text/plain": [
       "VBox()"
      ]
     },
     "metadata": {},
     "output_type": "display_data"
    },
    {
     "data": {
      "application/vnd.jupyter.widget-view+json": {
       "model_id": "",
       "version_major": 2,
       "version_minor": 0
      },
      "text/plain": [
       "FloatProgress(value=0.0, bar_style='info', description='Progress:', layout=Layout(height='25px', width='50%'),…"
      ]
     },
     "metadata": {},
     "output_type": "display_data"
    }
   ],
   "source": [
    "# remove all outliars in age\n",
    "df_clean3 = df_clean2.filter(\n",
    "    ((df_clean2.age != '78')\n",
    "    & (df_clean2.age != '79')\n",
    "    & (df_clean2.age != '80')\n",
    "    & (df_clean2.age != '81')\n",
    "    & (df_clean2.age != '82')\n",
    "    & (df_clean2.age != '83')\n",
    "    & (df_clean2.age != '84')\n",
    "    & (df_clean2.age != '85')\n",
    "    & (df_clean2.age != '86')\n",
    "    & (df_clean2.age != '87')\n",
    "    & (df_clean2.age != '88')\n",
    "    & (df_clean2.age != '89')\n",
    "    & (df_clean2.age != '90')\n",
    "\n",
    "    ))"
   ]
  },
  {
   "cell_type": "code",
   "execution_count": 70,
   "metadata": {
    "colab": {
     "base_uri": "https://localhost:8080/"
    },
    "id": "0-lvoERFyyYr",
    "outputId": "3a6f3f62-f48e-4bf9-cf5f-e6539eb2c2be"
   },
   "outputs": [
    {
     "data": {
      "application/vnd.jupyter.widget-view+json": {
       "model_id": "a55e9bf30ac94377871c03be72f2940f",
       "version_major": 2,
       "version_minor": 0
      },
      "text/plain": [
       "VBox()"
      ]
     },
     "metadata": {},
     "output_type": "display_data"
    },
    {
     "data": {
      "application/vnd.jupyter.widget-view+json": {
       "model_id": "",
       "version_major": 2,
       "version_minor": 0
      },
      "text/plain": [
       "FloatProgress(value=0.0, bar_style='info', description='Progress:', layout=Layout(height='25px', width='50%'),…"
      ]
     },
     "metadata": {},
     "output_type": "display_data"
    },
    {
     "name": "stdout",
     "output_type": "stream",
     "text": [
      "(30139, 29826)"
     ]
    }
   ],
   "source": [
    "# Checking the count of dataset after removing outliers\n",
    "df_clean.count(),df_clean3.count()"
   ]
  },
  {
   "cell_type": "code",
   "execution_count": 71,
   "metadata": {
    "colab": {
     "base_uri": "https://localhost:8080/"
    },
    "id": "LDr3xw8QzCRB",
    "outputId": "cda07693-d0e4-4d49-f8d4-c5d46e6a5a1a"
   },
   "outputs": [
    {
     "data": {
      "application/vnd.jupyter.widget-view+json": {
       "model_id": "d924674becc447129c8fe1c22d1ee9da",
       "version_major": 2,
       "version_minor": 0
      },
      "text/plain": [
       "VBox()"
      ]
     },
     "metadata": {},
     "output_type": "display_data"
    },
    {
     "data": {
      "application/vnd.jupyter.widget-view+json": {
       "model_id": "",
       "version_major": 2,
       "version_minor": 0
      },
      "text/plain": [
       "FloatProgress(value=0.0, bar_style='info', description='Progress:', layout=Layout(height='25px', width='50%'),…"
      ]
     },
     "metadata": {},
     "output_type": "display_data"
    },
    {
     "name": "stdout",
     "output_type": "stream",
     "text": [
      "(30139, 29677)"
     ]
    }
   ],
   "source": [
    "# Removing outliers from capital_gain column\n",
    "df_clean3 = df_clean3[df_clean3['capital_gain'] <= 40000]\n",
    "\n",
    "# Counting the data after remoivng outliers \n",
    "df_clean.count(),df_clean3.count()"
   ]
  },
  {
   "cell_type": "code",
   "execution_count": 72,
   "metadata": {
    "colab": {
     "base_uri": "https://localhost:8080/"
    },
    "id": "Z0LdKLZ7y2Qg",
    "outputId": "ab8b2f65-48ae-4b39-d70d-fd71cf527cd2"
   },
   "outputs": [
    {
     "data": {
      "application/vnd.jupyter.widget-view+json": {
       "model_id": "ed1e678d9f2c4841b8dbf02dbc6a035f",
       "version_major": 2,
       "version_minor": 0
      },
      "text/plain": [
       "VBox()"
      ]
     },
     "metadata": {},
     "output_type": "display_data"
    },
    {
     "data": {
      "application/vnd.jupyter.widget-view+json": {
       "model_id": "",
       "version_major": 2,
       "version_minor": 0
      },
      "text/plain": [
       "FloatProgress(value=0.0, bar_style='info', description='Progress:', layout=Layout(height='25px', width='50%'),…"
      ]
     },
     "metadata": {},
     "output_type": "display_data"
    },
    {
     "name": "stdout",
     "output_type": "stream",
     "text": [
      "(30139, 29670)"
     ]
    }
   ],
   "source": [
    "# Removing outliers from capital_loss column\n",
    "df_clean3 = df_clean3[df_clean3['capital_loss'] <= 3000]\n",
    "\n",
    "# Counting data after removing outliers\n",
    "df_clean.count(),df_clean3.count()"
   ]
  },
  {
   "cell_type": "code",
   "execution_count": 73,
   "metadata": {
    "colab": {
     "base_uri": "https://localhost:8080/"
    },
    "id": "RninORMUzVyp",
    "outputId": "a1236a13-cfb9-41ac-ef9d-7fa2fb115810"
   },
   "outputs": [
    {
     "data": {
      "application/vnd.jupyter.widget-view+json": {
       "model_id": "329ace72643e4ebdb82f832d8644d5c1",
       "version_major": 2,
       "version_minor": 0
      },
      "text/plain": [
       "VBox()"
      ]
     },
     "metadata": {},
     "output_type": "display_data"
    },
    {
     "data": {
      "application/vnd.jupyter.widget-view+json": {
       "model_id": "",
       "version_major": 2,
       "version_minor": 0
      },
      "text/plain": [
       "FloatProgress(value=0.0, bar_style='info', description='Progress:', layout=Layout(height='25px', width='50%'),…"
      ]
     },
     "metadata": {},
     "output_type": "display_data"
    },
    {
     "name": "stdout",
     "output_type": "stream",
     "text": [
      "(30139, 29648)"
     ]
    }
   ],
   "source": [
    "# Removing outliers from fnlwgt column\n",
    "df_clean3 = df_clean3[df_clean3['fnlwgt'] <= 850000]\n",
    "\n",
    "# Counting data after removing outliers\n",
    "df_clean.count(),df_clean3.count()"
   ]
  },
  {
   "cell_type": "code",
   "execution_count": 74,
   "metadata": {
    "colab": {
     "base_uri": "https://localhost:8080/"
    },
    "id": "NoofG_FCzfna",
    "outputId": "f3108164-1dce-4d62-8d73-0d5daef78399"
   },
   "outputs": [
    {
     "data": {
      "application/vnd.jupyter.widget-view+json": {
       "model_id": "ed8bd8aef8c3402c9b3f1aec834e80a8",
       "version_major": 2,
       "version_minor": 0
      },
      "text/plain": [
       "VBox()"
      ]
     },
     "metadata": {},
     "output_type": "display_data"
    },
    {
     "data": {
      "application/vnd.jupyter.widget-view+json": {
       "model_id": "",
       "version_major": 2,
       "version_minor": 0
      },
      "text/plain": [
       "FloatProgress(value=0.0, bar_style='info', description='Progress:', layout=Layout(height='25px', width='50%'),…"
      ]
     },
     "metadata": {},
     "output_type": "display_data"
    },
    {
     "name": "stdout",
     "output_type": "stream",
     "text": [
      "+---+---------+------+----------+-------------+--------------+--------------+-------------+-----+----+------------+------------+--------------+--------------+------+\n",
      "|age|workclass|fnlwgt| education|education_num|marital_status|    occupation| relationship| race| sex|capital_gain|capital_loss|hours_per_week|native_country|income|\n",
      "+---+---------+------+----------+-------------+--------------+--------------+-------------+-----+----+------------+------------+--------------+--------------+------+\n",
      "| 36|  Private|224566|Assoc-acdm|           12| Never-married|Prof-specialty|Not-in-family|White|Male|           0|        1669|            45| United-States| <=50K|\n",
      "+---+---------+------+----------+-------------+--------------+--------------+-------------+-----+----+------------+------------+--------------+--------------+------+\n",
      "only showing top 1 row"
     ]
    }
   ],
   "source": [
    "# Displaying the dataset after removing outliers\n",
    "df_clean3.show(1)"
   ]
  },
  {
   "cell_type": "markdown",
   "metadata": {
    "id": "4fflI5sc3H7D"
   },
   "source": [
    "After removing the outliers, we have left with 29648 columns. We assigned the dataset to a new name. we lost about 1.62% of the data after cleaning up the outliers. "
   ]
  },
  {
   "cell_type": "markdown",
   "metadata": {
    "id": "LO83tW5fzKm-"
   },
   "source": [
    "# Correlation"
   ]
  },
  {
   "cell_type": "code",
   "execution_count": 75,
   "metadata": {
    "id": "L4tLqDVpzacN"
   },
   "outputs": [
    {
     "data": {
      "application/vnd.jupyter.widget-view+json": {
       "model_id": "6e868ca04d9b474fbce080196ca36959",
       "version_major": 2,
       "version_minor": 0
      },
      "text/plain": [
       "VBox()"
      ]
     },
     "metadata": {},
     "output_type": "display_data"
    },
    {
     "data": {
      "application/vnd.jupyter.widget-view+json": {
       "model_id": "",
       "version_major": 2,
       "version_minor": 0
      },
      "text/plain": [
       "FloatProgress(value=0.0, bar_style='info', description='Progress:', layout=Layout(height='25px', width='50%'),…"
      ]
     },
     "metadata": {},
     "output_type": "display_data"
    }
   ],
   "source": [
    "# Selecting features for correlation\n",
    "features = ['age','fnlwgt','education_num','capital_gain','capital_loss','hours_per_week']"
   ]
  },
  {
   "cell_type": "markdown",
   "metadata": {
    "id": "rbxmhO4y3jcb"
   },
   "source": [
    "We selected the numeric columns and assigned to a name. "
   ]
  },
  {
   "cell_type": "code",
   "execution_count": 76,
   "metadata": {
    "colab": {
     "base_uri": "https://localhost:8080/"
    },
    "id": "wUhcYcPjzkba",
    "outputId": "76ba67ac-267b-46a2-b6ad-4ed9a1ad289e"
   },
   "outputs": [
    {
     "data": {
      "application/vnd.jupyter.widget-view+json": {
       "model_id": "af99b548182649058cbfef048534ff8b",
       "version_major": 2,
       "version_minor": 0
      },
      "text/plain": [
       "VBox()"
      ]
     },
     "metadata": {},
     "output_type": "display_data"
    },
    {
     "data": {
      "application/vnd.jupyter.widget-view+json": {
       "model_id": "",
       "version_major": 2,
       "version_minor": 0
      },
      "text/plain": [
       "FloatProgress(value=0.0, bar_style='info', description='Progress:', layout=Layout(height='25px', width='50%'),…"
      ]
     },
     "metadata": {},
     "output_type": "display_data"
    },
    {
     "name": "stdout",
     "output_type": "stream",
     "text": [
      "+--------------+----+--------------------+--------------------+--------------------+--------------------+--------------------+\n",
      "|        Column| age|              fnlwgt|       education_num|        capital_gain|        capital_loss|      hours_per_week|\n",
      "+--------------+----+--------------------+--------------------+--------------------+--------------------+--------------------+\n",
      "|           age| 1.0|-0.07402590383297354|0.044755755036027675| 0.11956987435377789|0.059667785652745914| 0.11515012046745453|\n",
      "|        fnlwgt|null|                 1.0|-0.04776248530128201|-0.00660668203431...|-0.00921512191419...|-0.01946837548896...|\n",
      "| education_num|null|                null|                 1.0|   0.149253317665428| 0.08306844753399072| 0.15742165542635028|\n",
      "|  capital_gain|null|                null|                null|                 1.0|-0.05144216730478446| 0.09004351144791092|\n",
      "|  capital_loss|null|                null|                null|                null|                 1.0| 0.05599207995880342|\n",
      "|hours_per_week|null|                null|                null|                null|                null|                 1.0|\n",
      "+--------------+----+--------------------+--------------------+--------------------+--------------------+--------------------+"
     ]
    }
   ],
   "source": [
    "# Creating a custom loop \n",
    "n_features = len(features)\n",
    "\n",
    "corr = []\n",
    "\n",
    "for i in range(0, n_features):\n",
    "    temp = [None] * i\n",
    "\n",
    "    for j in range(i, n_features):\n",
    "        temp.append(df_clean3.corr(features[i], features[j]))\n",
    "    corr.append([features[i]] + temp)\n",
    "\n",
    "# Creating a dataframe for correlation\n",
    "correlations = spark.createDataFrame(corr, ['Column'] + features)\n",
    "\n",
    "# Displaying correlation \n",
    "correlations.show()"
   ]
  },
  {
   "cell_type": "markdown",
   "metadata": {
    "id": "rbxmhO4y3jcb"
   },
   "source": [
    "It appears that the two strongest correlations within this data set are education_num and capital_gain (.149), and education_num and hours_per_week(.157). These seem to be positively correlated due to the effect of education_num, it seem the more educated you are, the more hours you will work and the more capital gain you will experience"
   ]
  },
  {
   "cell_type": "markdown",
   "metadata": {
    "id": "yOH6B5fPzOAV"
   },
   "source": [
    "# Data Transforming"
   ]
  },
  {
   "cell_type": "code",
   "execution_count": 77,
   "metadata": {
    "colab": {
     "base_uri": "https://localhost:8080/"
    },
    "id": "d6QjRurRzR_h",
    "outputId": "a573b7d5-d706-471a-f688-09ef5433b612"
   },
   "outputs": [
    {
     "data": {
      "application/vnd.jupyter.widget-view+json": {
       "model_id": "6cfb4113bade43388d45dda61af55d4a",
       "version_major": 2,
       "version_minor": 0
      },
      "text/plain": [
       "VBox()"
      ]
     },
     "metadata": {},
     "output_type": "display_data"
    },
    {
     "data": {
      "application/vnd.jupyter.widget-view+json": {
       "model_id": "",
       "version_major": 2,
       "version_minor": 0
      },
      "text/plain": [
       "FloatProgress(value=0.0, bar_style='info', description='Progress:', layout=Layout(height='25px', width='50%'),…"
      ]
     },
     "metadata": {},
     "output_type": "display_data"
    },
    {
     "name": "stdout",
     "output_type": "stream",
     "text": [
      "root\n",
      " |-- age: integer (nullable = true)\n",
      " |-- workclass: string (nullable = true)\n",
      " |-- fnlwgt: integer (nullable = true)\n",
      " |-- education: string (nullable = true)\n",
      " |-- education_num: integer (nullable = true)\n",
      " |-- marital_status: string (nullable = true)\n",
      " |-- occupation: string (nullable = true)\n",
      " |-- relationship: string (nullable = true)\n",
      " |-- race: string (nullable = true)\n",
      " |-- sex: string (nullable = true)\n",
      " |-- capital_gain: integer (nullable = true)\n",
      " |-- capital_loss: integer (nullable = true)\n",
      " |-- hours_per_week: integer (nullable = true)\n",
      " |-- native_country: string (nullable = true)\n",
      " |-- income: string (nullable = true)"
     ]
    }
   ],
   "source": [
    "# Printing out the schema before data transforming \n",
    "df_clean3.printSchema()"
   ]
  },
  {
   "cell_type": "markdown",
   "metadata": {
    "id": "wyTiiOA34AKf"
   },
   "source": [
    "We printed out the schema again before we started transforming the data. "
   ]
  },
  {
   "cell_type": "code",
   "execution_count": 78,
   "metadata": {
    "id": "J_Iwcs58zcjH"
   },
   "outputs": [
    {
     "data": {
      "application/vnd.jupyter.widget-view+json": {
       "model_id": "807b97d6832c4195a66e4ac00a74becf",
       "version_major": 2,
       "version_minor": 0
      },
      "text/plain": [
       "VBox()"
      ]
     },
     "metadata": {},
     "output_type": "display_data"
    },
    {
     "data": {
      "application/vnd.jupyter.widget-view+json": {
       "model_id": "",
       "version_major": 2,
       "version_minor": 0
      },
      "text/plain": [
       "FloatProgress(value=0.0, bar_style='info', description='Progress:', layout=Layout(height='25px', width='50%'),…"
      ]
     },
     "metadata": {},
     "output_type": "display_data"
    }
   ],
   "source": [
    "# Renaming some columns and dependent column income as label\n",
    "cols = ['age',\n",
    " 'workclass',\n",
    " 'fnlwgt',\n",
    " 'education',\n",
    " 'education_num',\n",
    " 'marital',\n",
    " 'occupation',\n",
    " 'relationship',\n",
    " 'race',\n",
    " 'sex',\n",
    " 'capital_gain',\n",
    " 'capital_loss',\n",
    " 'hours_week',\n",
    " 'native_country',\n",
    " 'label']"
   ]
  },
  {
   "cell_type": "markdown",
   "metadata": {
    "id": "icmb2STa4G3N"
   },
   "source": [
    "We have decided to rename some of the columns and changed our dependent varaible name \"income\" to \"label\"."
   ]
  },
  {
   "cell_type": "code",
   "execution_count": 79,
   "metadata": {
    "id": "F-jAx64-z6Pt"
   },
   "outputs": [
    {
     "data": {
      "application/vnd.jupyter.widget-view+json": {
       "model_id": "ed713ca124f24fb99abc667cde7df119",
       "version_major": 2,
       "version_minor": 0
      },
      "text/plain": [
       "VBox()"
      ]
     },
     "metadata": {},
     "output_type": "display_data"
    },
    {
     "data": {
      "application/vnd.jupyter.widget-view+json": {
       "model_id": "",
       "version_major": 2,
       "version_minor": 0
      },
      "text/plain": [
       "FloatProgress(value=0.0, bar_style='info', description='Progress:', layout=Layout(height='25px', width='50%'),…"
      ]
     },
     "metadata": {},
     "output_type": "display_data"
    }
   ],
   "source": [
    "# Assigning the renamed columns to a new df\n",
    "df_new = df_clean3.toDF(*cols)"
   ]
  },
  {
   "cell_type": "markdown",
   "metadata": {
    "id": "jwRwIKVI4RM6"
   },
   "source": [
    "Then, we created a dataset with new column names. "
   ]
  },
  {
   "cell_type": "code",
   "execution_count": 80,
   "metadata": {
    "colab": {
     "base_uri": "https://localhost:8080/"
    },
    "id": "Au4vH9nh0HJX",
    "outputId": "8dfb2f81-a851-455d-f371-970fa0c228de"
   },
   "outputs": [
    {
     "data": {
      "application/vnd.jupyter.widget-view+json": {
       "model_id": "293216fcd9f0426d82a83930c94a088e",
       "version_major": 2,
       "version_minor": 0
      },
      "text/plain": [
       "VBox()"
      ]
     },
     "metadata": {},
     "output_type": "display_data"
    },
    {
     "data": {
      "application/vnd.jupyter.widget-view+json": {
       "model_id": "",
       "version_major": 2,
       "version_minor": 0
      },
      "text/plain": [
       "FloatProgress(value=0.0, bar_style='info', description='Progress:', layout=Layout(height='25px', width='50%'),…"
      ]
     },
     "metadata": {},
     "output_type": "display_data"
    },
    {
     "name": "stdout",
     "output_type": "stream",
     "text": [
      "root\n",
      " |-- age: float (nullable = true)\n",
      " |-- workclass: string (nullable = true)\n",
      " |-- fnlwgt: float (nullable = true)\n",
      " |-- education: string (nullable = true)\n",
      " |-- education_num: float (nullable = true)\n",
      " |-- marital: string (nullable = true)\n",
      " |-- occupation: string (nullable = true)\n",
      " |-- relationship: string (nullable = true)\n",
      " |-- race: string (nullable = true)\n",
      " |-- sex: string (nullable = true)\n",
      " |-- capital_gain: float (nullable = true)\n",
      " |-- capital_loss: float (nullable = true)\n",
      " |-- hours_week: float (nullable = true)\n",
      " |-- native_country: string (nullable = true)\n",
      " |-- label: string (nullable = true)"
     ]
    }
   ],
   "source": [
    "# Import all from `sql.types`\n",
    "from pyspark.sql.types import *\n",
    "\n",
    "# A custom function to convert the data type of DataFrame columns\n",
    "def convertColumn(df_new, names, newType):\n",
    "    for name in names: \n",
    "        df_new = df_new.withColumn(name, df_new[name].cast(newType))\n",
    "    return df_new \n",
    "\n",
    "# List of continuous features\n",
    "CONTI_FEATURES  = ['age', 'fnlwgt','capital_gain', 'education_num', 'capital_loss', 'hours_week']\n",
    "\n",
    "# Converting continuous features into floats\n",
    "df_new = convertColumn(df_new, CONTI_FEATURES, FloatType())\n",
    "\n",
    "# Checking the schema of the dataset\n",
    "df_new.printSchema()"
   ]
  },
  {
   "cell_type": "markdown",
   "metadata": {
    "id": "ROxZpajh4ktX"
   },
   "source": [
    "We created a custom function to change the numeric columns to float and printed out the schema to ensure the changes are in placed. "
   ]
  },
  {
   "cell_type": "code",
   "execution_count": 81,
   "metadata": {
    "colab": {
     "base_uri": "https://localhost:8080/"
    },
    "id": "fYXlU8Zt0Qg2",
    "outputId": "8492973e-8014-4102-efa7-4e856d667d0d"
   },
   "outputs": [
    {
     "data": {
      "application/vnd.jupyter.widget-view+json": {
       "model_id": "1f00ca27b135429e8772c67a5f7a91c5",
       "version_major": 2,
       "version_minor": 0
      },
      "text/plain": [
       "VBox()"
      ]
     },
     "metadata": {},
     "output_type": "display_data"
    },
    {
     "data": {
      "application/vnd.jupyter.widget-view+json": {
       "model_id": "",
       "version_major": 2,
       "version_minor": 0
      },
      "text/plain": [
       "FloatProgress(value=0.0, bar_style='info', description='Progress:', layout=Layout(height='25px', width='50%'),…"
      ]
     },
     "metadata": {},
     "output_type": "display_data"
    },
    {
     "name": "stdout",
     "output_type": "stream",
     "text": [
      "+----+----------------+--------+------------+-------------+------------------+---------------+-------------+-----+------+------------+------------+----------+--------------+-----+\n",
      "| age|       workclass|  fnlwgt|   education|education_num|           marital|     occupation| relationship| race|   sex|capital_gain|capital_loss|hours_week|native_country|label|\n",
      "+----+----------------+--------+------------+-------------+------------------+---------------+-------------+-----+------+------------+------------+----------+--------------+-----+\n",
      "|36.0|         Private|224566.0|  Assoc-acdm|         12.0|     Never-married| Prof-specialty|Not-in-family|White|  Male|         0.0|      1669.0|      45.0| United-States|<=50K|\n",
      "|66.0|       Local-gov|174486.0|   Doctorate|         16.0|Married-civ-spouse| Prof-specialty|      Husband|Black|  Male|     20051.0|         0.0|      35.0|       Jamaica| >50K|\n",
      "|33.0|         Private|356823.0|   Bachelors|         13.0|     Never-married| Prof-specialty|Not-in-family|White|Female|     10520.0|         0.0|      45.0| United-States| >50K|\n",
      "|22.0|         Private|355686.0|Some-college|         10.0|     Never-married|   Adm-clerical|Not-in-family|White|Female|         0.0|         0.0|      40.0| United-States|<=50K|\n",
      "|47.0|Self-emp-not-inc|102359.0|   Bachelors|         13.0|Married-civ-spouse|Exec-managerial|      Husband|White|  Male|         0.0|         0.0|      30.0| United-States|<=50K|\n",
      "+----+----------------+--------+------------+-------------+------------------+---------------+-------------+-----+------+------------+------------+----------+--------------+-----+\n",
      "only showing top 5 rows"
     ]
    }
   ],
   "source": [
    "# Displaying the to 5 rows\n",
    "df_new.show(5)"
   ]
  },
  {
   "cell_type": "markdown",
   "metadata": {
    "id": "_MS2Ri8E5hcB"
   },
   "source": [
    "We also displayed the top 5 rows of the dataset to see everything is what we wanted to be at this point. "
   ]
  },
  {
   "cell_type": "code",
   "execution_count": 82,
   "metadata": {
    "id": "ZeCG1rLN0bQd"
   },
   "outputs": [
    {
     "data": {
      "application/vnd.jupyter.widget-view+json": {
       "model_id": "ce624cc104894ddab3eed0acdbe6608e",
       "version_major": 2,
       "version_minor": 0
      },
      "text/plain": [
       "VBox()"
      ]
     },
     "metadata": {},
     "output_type": "display_data"
    },
    {
     "data": {
      "application/vnd.jupyter.widget-view+json": {
       "model_id": "",
       "version_major": 2,
       "version_minor": 0
      },
      "text/plain": [
       "FloatProgress(value=0.0, bar_style='info', description='Progress:', layout=Layout(height='25px', width='50%'),…"
      ]
     },
     "metadata": {},
     "output_type": "display_data"
    }
   ],
   "source": [
    "# Importing libraries \n",
    "from pyspark.ml import Pipeline\n",
    "from pyspark.ml.feature import StringIndexer, OneHotEncoder, VectorAssembler\n",
    "from pyspark.ml.feature import OneHotEncoderEstimator"
   ]
  },
  {
   "cell_type": "code",
   "execution_count": 83,
   "metadata": {
    "id": "cM-IWp0g0dp1"
   },
   "outputs": [
    {
     "data": {
      "application/vnd.jupyter.widget-view+json": {
       "model_id": "285f60b48fde46e7b746c3774a41fd46",
       "version_major": 2,
       "version_minor": 0
      },
      "text/plain": [
       "VBox()"
      ]
     },
     "metadata": {},
     "output_type": "display_data"
    },
    {
     "data": {
      "application/vnd.jupyter.widget-view+json": {
       "model_id": "",
       "version_major": 2,
       "version_minor": 0
      },
      "text/plain": [
       "FloatProgress(value=0.0, bar_style='info', description='Progress:', layout=Layout(height='25px', width='50%'),…"
      ]
     },
     "metadata": {},
     "output_type": "display_data"
    }
   ],
   "source": [
    "# Selecting the categorical columns\n",
    "CATE_FEATURES = ['workclass', 'education', 'marital', 'occupation', 'relationship', 'race', 'sex', 'native_country']\n",
    "\n",
    "# stages in Pipeline\n",
    "stages = [] \n",
    "\n",
    "# Mapping categorical columns with StringIndexer to label indices\n",
    "for categoricalCol in CATE_FEATURES:\n",
    "    stringIndexer = StringIndexer(inputCol=categoricalCol, outputCol=categoricalCol + \"Index\")\n",
    "    \n",
    "# Mapping StringIndexer into a column of binary vectors    \n",
    "    encoder = OneHotEncoderEstimator(inputCols=[stringIndexer.getOutputCol()],\n",
    "                                     outputCols=[categoricalCol + \"classVec\"])\n",
    "# State 1 for pipeline\n",
    "    stages += [stringIndexer, encoder]"
   ]
  },
  {
   "cell_type": "markdown",
   "metadata": {
    "id": "hStCrZpo5qy_"
   },
   "source": [
    "We selected all the categorical columns except out dependent coulumn \"label\" and used stringindexer to change the columns to label indices. Then, we used onehotencoder to changed the columns into binary vectors. We set up the first stage for  pipeline."
   ]
  },
  {
   "cell_type": "code",
   "execution_count": 84,
   "metadata": {
    "id": "6yoUAf2c09yn"
   },
   "outputs": [
    {
     "data": {
      "application/vnd.jupyter.widget-view+json": {
       "model_id": "531375037f2f4c73856ba5d4ee6c752f",
       "version_major": 2,
       "version_minor": 0
      },
      "text/plain": [
       "VBox()"
      ]
     },
     "metadata": {},
     "output_type": "display_data"
    },
    {
     "data": {
      "application/vnd.jupyter.widget-view+json": {
       "model_id": "",
       "version_major": 2,
       "version_minor": 0
      },
      "text/plain": [
       "FloatProgress(value=0.0, bar_style='info', description='Progress:', layout=Layout(height='25px', width='50%'),…"
      ]
     },
     "metadata": {},
     "output_type": "display_data"
    }
   ],
   "source": [
    "# Converting label column into label indices using the StringIndexer\n",
    "label_stringIdx =  StringIndexer(inputCol=\"label\", outputCol=\"newlabel\")\n",
    "\n",
    "# stage 2 for pipeline\n",
    "stages += [label_stringIdx]"
   ]
  },
  {
   "cell_type": "markdown",
   "metadata": {
    "id": "2B6pjh5O6Zyz"
   },
   "source": [
    "Then, we also used stringIndexer to change our dependent column \"label\" into indencies and set up stage 2 for pipeline. "
   ]
  },
  {
   "cell_type": "code",
   "execution_count": 85,
   "metadata": {
    "id": "EPrq0G_n1Akb"
   },
   "outputs": [
    {
     "data": {
      "application/vnd.jupyter.widget-view+json": {
       "model_id": "cb984fc289b64a0aafa8569979ee3b07",
       "version_major": 2,
       "version_minor": 0
      },
      "text/plain": [
       "VBox()"
      ]
     },
     "metadata": {},
     "output_type": "display_data"
    },
    {
     "data": {
      "application/vnd.jupyter.widget-view+json": {
       "model_id": "",
       "version_major": 2,
       "version_minor": 0
      },
      "text/plain": [
       "FloatProgress(value=0.0, bar_style='info', description='Progress:', layout=Layout(height='25px', width='50%'),…"
      ]
     },
     "metadata": {},
     "output_type": "display_data"
    }
   ],
   "source": [
    "# Adding continuous variable\n",
    "assemblerInputs = [c + \"classVec\" for c in CATE_FEATURES] + CONTI_FEATURES"
   ]
  },
  {
   "cell_type": "markdown",
   "metadata": {
    "id": "ORQm4_ys6sk9"
   },
   "source": [
    "Then we added the numeric columns. "
   ]
  },
  {
   "cell_type": "code",
   "execution_count": 86,
   "metadata": {
    "id": "ol9ccbtw1EuN"
   },
   "outputs": [
    {
     "data": {
      "application/vnd.jupyter.widget-view+json": {
       "model_id": "27961a97a2544149b4a3a3c4dfc9d1db",
       "version_major": 2,
       "version_minor": 0
      },
      "text/plain": [
       "VBox()"
      ]
     },
     "metadata": {},
     "output_type": "display_data"
    },
    {
     "data": {
      "application/vnd.jupyter.widget-view+json": {
       "model_id": "",
       "version_major": 2,
       "version_minor": 0
      },
      "text/plain": [
       "FloatProgress(value=0.0, bar_style='info', description='Progress:', layout=Layout(height='25px', width='50%'),…"
      ]
     },
     "metadata": {},
     "output_type": "display_data"
    }
   ],
   "source": [
    "# Assemble the steps with VectorAssembler\n",
    "assembler = VectorAssembler(inputCols=assemblerInputs, outputCol=\"features\")\n",
    "\n",
    "# Stage 3 for pipeline\n",
    "stages += [assembler]"
   ]
  },
  {
   "cell_type": "markdown",
   "metadata": {
    "id": "1wlRlLjG7h-i"
   },
   "source": [
    "We used VectorAseembler to assemble all the columns together and we out put the results as \"features\". We set up our final stage for pipeline. "
   ]
  },
  {
   "cell_type": "code",
   "execution_count": 87,
   "metadata": {
    "id": "UKQ-pDGe1GtH"
   },
   "outputs": [
    {
     "data": {
      "application/vnd.jupyter.widget-view+json": {
       "model_id": "a23c2db673e345f4bed7e0de03219466",
       "version_major": 2,
       "version_minor": 0
      },
      "text/plain": [
       "VBox()"
      ]
     },
     "metadata": {},
     "output_type": "display_data"
    },
    {
     "data": {
      "application/vnd.jupyter.widget-view+json": {
       "model_id": "",
       "version_major": 2,
       "version_minor": 0
      },
      "text/plain": [
       "FloatProgress(value=0.0, bar_style='info', description='Progress:', layout=Layout(height='25px', width='50%'),…"
      ]
     },
     "metadata": {},
     "output_type": "display_data"
    }
   ],
   "source": [
    "# Create a Pipeline.\n",
    "pipeline = Pipeline(stages=stages)\n",
    "\n",
    "# Fitting the pipeline model to data\n",
    "pipelineModel = pipeline.fit(df_new)\n",
    "\n",
    "# Transforming the pipeline model to data\n",
    "model = pipelineModel.transform(df_new)"
   ]
  },
  {
   "cell_type": "markdown",
   "metadata": {
    "id": "IJdWVPjC78Ti"
   },
   "source": [
    "We assembled all the stages into our pipeline, fitted and transformed to our dataset. "
   ]
  },
  {
   "cell_type": "code",
   "execution_count": 88,
   "metadata": {
    "id": "rxrtup7G1HuO"
   },
   "outputs": [
    {
     "data": {
      "application/vnd.jupyter.widget-view+json": {
       "model_id": "748460663e364531a63457634667a39f",
       "version_major": 2,
       "version_minor": 0
      },
      "text/plain": [
       "VBox()"
      ]
     },
     "metadata": {},
     "output_type": "display_data"
    },
    {
     "data": {
      "application/vnd.jupyter.widget-view+json": {
       "model_id": "",
       "version_major": 2,
       "version_minor": 0
      },
      "text/plain": [
       "FloatProgress(value=0.0, bar_style='info', description='Progress:', layout=Layout(height='25px', width='50%'),…"
      ]
     },
     "metadata": {},
     "output_type": "display_data"
    }
   ],
   "source": [
    "from pyspark.ml.linalg import DenseVector\n",
    "\n",
    "# Selcting newlabel and features from model using map\n",
    "input_data = model.rdd.map(lambda x: (x[\"newlabel\"], DenseVector(x[\"features\"])))"
   ]
  },
  {
   "cell_type": "markdown",
   "metadata": {
    "id": "QJq1gb5b8Hxo"
   },
   "source": [
    "We changed the model into dense vector. "
   ]
  },
  {
   "cell_type": "code",
   "execution_count": 89,
   "metadata": {
    "id": "MY10Y7Oc1NaG"
   },
   "outputs": [
    {
     "data": {
      "application/vnd.jupyter.widget-view+json": {
       "model_id": "f446a332bdf14202b6c46249dac12189",
       "version_major": 2,
       "version_minor": 0
      },
      "text/plain": [
       "VBox()"
      ]
     },
     "metadata": {},
     "output_type": "display_data"
    },
    {
     "data": {
      "application/vnd.jupyter.widget-view+json": {
       "model_id": "",
       "version_major": 2,
       "version_minor": 0
      },
      "text/plain": [
       "FloatProgress(value=0.0, bar_style='info', description='Progress:', layout=Layout(height='25px', width='50%'),…"
      ]
     },
     "metadata": {},
     "output_type": "display_data"
    }
   ],
   "source": [
    "# Converting the model to a dataframe\n",
    "df_final = spark.createDataFrame(input_data, [\"label\", \"features\"])"
   ]
  },
  {
   "cell_type": "markdown",
   "metadata": {
    "id": "dIajVv8K9WSf"
   },
   "source": [
    "We changed our model to a dataframe to make faster computation."
   ]
  },
  {
   "cell_type": "code",
   "execution_count": 90,
   "metadata": {
    "colab": {
     "base_uri": "https://localhost:8080/"
    },
    "id": "cdLlkpf51P9P",
    "outputId": "bd3081b5-8fa6-4415-f030-cdd8f0100dc3"
   },
   "outputs": [
    {
     "data": {
      "application/vnd.jupyter.widget-view+json": {
       "model_id": "0b1d587a3ecd4253a03c88b245fd66b7",
       "version_major": 2,
       "version_minor": 0
      },
      "text/plain": [
       "VBox()"
      ]
     },
     "metadata": {},
     "output_type": "display_data"
    },
    {
     "data": {
      "application/vnd.jupyter.widget-view+json": {
       "model_id": "",
       "version_major": 2,
       "version_minor": 0
      },
      "text/plain": [
       "FloatProgress(value=0.0, bar_style='info', description='Progress:', layout=Layout(height='25px', width='50%'),…"
      ]
     },
     "metadata": {},
     "output_type": "display_data"
    },
    {
     "name": "stdout",
     "output_type": "stream",
     "text": [
      "+-----+--------------------+\n",
      "|label|            features|\n",
      "+-----+--------------------+\n",
      "|  0.0|[1.0,0.0,0.0,0.0,...|\n",
      "|  1.0|[0.0,0.0,1.0,0.0,...|\n",
      "|  1.0|[1.0,0.0,0.0,0.0,...|\n",
      "|  0.0|[1.0,0.0,0.0,0.0,...|\n",
      "|  0.0|[0.0,1.0,0.0,0.0,...|\n",
      "|  1.0|[1.0,0.0,0.0,0.0,...|\n",
      "|  0.0|[1.0,0.0,0.0,0.0,...|\n",
      "|  1.0|[1.0,0.0,0.0,0.0,...|\n",
      "|  0.0|[1.0,0.0,0.0,0.0,...|\n",
      "|  0.0|[0.0,1.0,0.0,0.0,...|\n",
      "|  1.0|[0.0,0.0,0.0,0.0,...|\n",
      "|  0.0|[0.0,0.0,0.0,1.0,...|\n",
      "|  1.0|[1.0,0.0,0.0,0.0,...|\n",
      "|  1.0|[0.0,0.0,0.0,0.0,...|\n",
      "|  0.0|[1.0,0.0,0.0,0.0,...|\n",
      "|  1.0|[0.0,0.0,0.0,0.0,...|\n",
      "|  0.0|[1.0,0.0,0.0,0.0,...|\n",
      "|  0.0|[1.0,0.0,0.0,0.0,...|\n",
      "|  0.0|[1.0,0.0,0.0,0.0,...|\n",
      "|  1.0|[0.0,1.0,0.0,0.0,...|\n",
      "+-----+--------------------+\n",
      "only showing top 20 rows"
     ]
    }
   ],
   "source": [
    "# Displaying the model\n",
    "df_final.show()"
   ]
  },
  {
   "cell_type": "markdown",
   "metadata": {
    "id": "GN_Uv3Th9jnW"
   },
   "source": [
    "We displayed our final data before we started our classification methods. "
   ]
  },
  {
   "cell_type": "markdown",
   "metadata": {
    "id": "n1B2MzcV7o9g"
   },
   "source": [
    "# Logistic Regression"
   ]
  },
  {
   "cell_type": "code",
   "execution_count": 91,
   "metadata": {
    "id": "ZEEfTacH7qpE"
   },
   "outputs": [
    {
     "data": {
      "application/vnd.jupyter.widget-view+json": {
       "model_id": "4313ac5e6f0a4ac382dfa05f0a7facc7",
       "version_major": 2,
       "version_minor": 0
      },
      "text/plain": [
       "VBox()"
      ]
     },
     "metadata": {},
     "output_type": "display_data"
    },
    {
     "data": {
      "application/vnd.jupyter.widget-view+json": {
       "model_id": "",
       "version_major": 2,
       "version_minor": 0
      },
      "text/plain": [
       "FloatProgress(value=0.0, bar_style='info', description='Progress:', layout=Layout(height='25px', width='50%'),…"
      ]
     },
     "metadata": {},
     "output_type": "display_data"
    }
   ],
   "source": [
    "# Splitting the model into train and test sets\n",
    "train_data, test_data = (\n",
    "    df_final\n",
    "    .randomSplit([0.7, 0.3], seed=666)\n",
    ")"
   ]
  },
  {
   "cell_type": "markdown",
   "metadata": {
    "id": "L0kq0Q4o9tmF"
   },
   "source": [
    "We randomly split our data into 70% and 30% as training data and testing data. "
   ]
  },
  {
   "cell_type": "code",
   "execution_count": 92,
   "metadata": {
    "colab": {
     "base_uri": "https://localhost:8080/"
    },
    "id": "o7hBlwnQ70GP",
    "outputId": "078e587f-f1cd-4650-f8d9-b6b60cfc9b43"
   },
   "outputs": [
    {
     "data": {
      "application/vnd.jupyter.widget-view+json": {
       "model_id": "014d0468383a495da374fe226adeb06e",
       "version_major": 2,
       "version_minor": 0
      },
      "text/plain": [
       "VBox()"
      ]
     },
     "metadata": {},
     "output_type": "display_data"
    },
    {
     "data": {
      "application/vnd.jupyter.widget-view+json": {
       "model_id": "",
       "version_major": 2,
       "version_minor": 0
      },
      "text/plain": [
       "FloatProgress(value=0.0, bar_style='info', description='Progress:', layout=Layout(height='25px', width='50%'),…"
      ]
     },
     "metadata": {},
     "output_type": "display_data"
    },
    {
     "name": "stdout",
     "output_type": "stream",
     "text": [
      "Time to train model: 113.507 seconds"
     ]
    }
   ],
   "source": [
    "from pyspark.ml.classification import LogisticRegression\n",
    "from time import *\n",
    "\n",
    "# Marking the time before fitting model\n",
    "start_time = time()\n",
    "\n",
    "\n",
    "# Initializing logistic regression\n",
    "lr = LogisticRegression(labelCol=\"label\",\n",
    "                        featuresCol=\"features\",\n",
    "                        regParam=0.01,\n",
    "                        elasticNetParam = 1.00,\n",
    "                        family = 'multinomial')\n",
    "\n",
    "# Fit the data to the model\n",
    "linearModel = lr.fit(train_data)\n",
    "\n",
    "# Marking the end time after fitting model\n",
    "end_time = time()\n",
    "\n",
    "# Calculating the duration of model fitting\n",
    "elapsed_time = end_time - start_time\n",
    "\n",
    "# Printing out the time to train the model in seconds\n",
    "print(\"Time to train model: %.3f seconds\" % elapsed_time)"
   ]
  },
  {
   "cell_type": "markdown",
   "metadata": {
    "id": "qMoy7Mo995jt"
   },
   "source": [
    "We set up our logistic regression and imported time to see how long it take to train our model. Approximately 2 mins to train. "
   ]
  },
  {
   "cell_type": "code",
   "execution_count": 93,
   "metadata": {
    "id": "2y4GoSq08C-e"
   },
   "outputs": [
    {
     "data": {
      "application/vnd.jupyter.widget-view+json": {
       "model_id": "7c0e28298ba74483bd5e5b5f23d3b57b",
       "version_major": 2,
       "version_minor": 0
      },
      "text/plain": [
       "VBox()"
      ]
     },
     "metadata": {},
     "output_type": "display_data"
    },
    {
     "data": {
      "application/vnd.jupyter.widget-view+json": {
       "model_id": "",
       "version_major": 2,
       "version_minor": 0
      },
      "text/plain": [
       "FloatProgress(value=0.0, bar_style='info', description='Progress:', layout=Layout(height='25px', width='50%'),…"
      ]
     },
     "metadata": {},
     "output_type": "display_data"
    }
   ],
   "source": [
    "# Transforming the data to test model\n",
    "predictions_lr = linearModel.transform(test_data)"
   ]
  },
  {
   "cell_type": "markdown",
   "metadata": {
    "id": "iSq5lLBJ-ZU_"
   },
   "source": [
    "Then we transformed into our test data. "
   ]
  },
  {
   "cell_type": "code",
   "execution_count": 94,
   "metadata": {
    "id": "1Z4nSsST-0FQ"
   },
   "outputs": [
    {
     "data": {
      "application/vnd.jupyter.widget-view+json": {
       "model_id": "47aecc8462014bc8a6704f063bf0fbfd",
       "version_major": 2,
       "version_minor": 0
      },
      "text/plain": [
       "VBox()"
      ]
     },
     "metadata": {},
     "output_type": "display_data"
    },
    {
     "data": {
      "application/vnd.jupyter.widget-view+json": {
       "model_id": "",
       "version_major": 2,
       "version_minor": 0
      },
      "text/plain": [
       "FloatProgress(value=0.0, bar_style='info', description='Progress:', layout=Layout(height='25px', width='50%'),…"
      ]
     },
     "metadata": {},
     "output_type": "display_data"
    }
   ],
   "source": [
    "# Selecting columns and storing in a new variable\n",
    "results_logReg = predictions_lr.select('label', 'probability', 'prediction')\n"
   ]
  },
  {
   "cell_type": "markdown",
   "metadata": {
    "id": "IG9R-Vu6-epv"
   },
   "source": [
    "We selected columns for our evalutation."
   ]
  },
  {
   "cell_type": "code",
   "execution_count": 95,
   "metadata": {
    "colab": {
     "base_uri": "https://localhost:8080/"
    },
    "id": "MJhTtMes-89p",
    "outputId": "6fb3c40c-f16b-438f-b37a-bb57365d6293"
   },
   "outputs": [
    {
     "data": {
      "application/vnd.jupyter.widget-view+json": {
       "model_id": "bc26678f0d47416889e7a22013aa59bb",
       "version_major": 2,
       "version_minor": 0
      },
      "text/plain": [
       "VBox()"
      ]
     },
     "metadata": {},
     "output_type": "display_data"
    },
    {
     "data": {
      "application/vnd.jupyter.widget-view+json": {
       "model_id": "",
       "version_major": 2,
       "version_minor": 0
      },
      "text/plain": [
       "FloatProgress(value=0.0, bar_style='info', description='Progress:', layout=Layout(height='25px', width='50%'),…"
      ]
     },
     "metadata": {},
     "output_type": "display_data"
    },
    {
     "name": "stdout",
     "output_type": "stream",
     "text": [
      "(0.82885905861642, 0.8315289733339646, 0.8399909726923945)"
     ]
    }
   ],
   "source": [
    "import pyspark.ml.evaluation as ev\n",
    "\n",
    "#evaluate performance of the multinomial model (7 classes)\n",
    "evaluator = ev.MulticlassClassificationEvaluator(\n",
    "    predictionCol='prediction'\n",
    "    , labelCol='label')\n",
    "\n",
    "(\n",
    "    #F-1 score\n",
    "    evaluator.evaluate(results_logReg)\n",
    "    \n",
    "    #weighted precision\n",
    "    , evaluator.evaluate(\n",
    "        results_logReg\n",
    "        , {evaluator.metricName: 'weightedPrecision'}\n",
    "    ) \n",
    "    #accuracy\n",
    "    , evaluator.evaluate(\n",
    "        results_logReg\n",
    "        , {evaluator.metricName: 'accuracy'}\n",
    "    )\n",
    ")"
   ]
  },
  {
   "cell_type": "markdown",
   "metadata": {
    "id": "aW_YmTSq-n_S"
   },
   "source": [
    "Our accuracy with logistic regression is approximately 83% with 0.827 F1 score and 0.834 weighted precisions. "
   ]
  },
  {
   "cell_type": "markdown",
   "metadata": {
    "id": "oGV3dIPjAlM5"
   },
   "source": [
    "# Random Forest Classifier"
   ]
  },
  {
   "cell_type": "code",
   "execution_count": 96,
   "metadata": {
    "colab": {
     "base_uri": "https://localhost:8080/"
    },
    "id": "I6_MToQIAMxh",
    "outputId": "f3dfe74d-6681-45a6-9ab2-ab0d1d19d7b2"
   },
   "outputs": [
    {
     "data": {
      "application/vnd.jupyter.widget-view+json": {
       "model_id": "bd576a370639405d9d33379f1ca3ce9d",
       "version_major": 2,
       "version_minor": 0
      },
      "text/plain": [
       "VBox()"
      ]
     },
     "metadata": {},
     "output_type": "display_data"
    },
    {
     "data": {
      "application/vnd.jupyter.widget-view+json": {
       "model_id": "",
       "version_major": 2,
       "version_minor": 0
      },
      "text/plain": [
       "FloatProgress(value=0.0, bar_style='info', description='Progress:', layout=Layout(height='25px', width='50%'),…"
      ]
     },
     "metadata": {},
     "output_type": "display_data"
    },
    {
     "name": "stdout",
     "output_type": "stream",
     "text": [
      "Time to train model: 133.862 seconds"
     ]
    }
   ],
   "source": [
    "from pyspark.ml.classification import RandomForestClassifier\n",
    "\n",
    "# Marking the time before fitting the model\n",
    "start_time = time()\n",
    "\n",
    "# Initializing random forest classifer\n",
    "rf = RandomForestClassifier(\n",
    "    labelCol=\"label\"\n",
    "    , featuresCol= \"features\"\n",
    "    , minInstancesPerNode=10\n",
    "    , numTrees=10\n",
    ")\n",
    "\n",
    "# Fitting the data in the model\n",
    "rf_model = rf.fit(train_data)\n",
    "\n",
    "# Marking the time after fitting the model\n",
    "end_time = time()\n",
    "\n",
    "# Calculating the duration of model fitting\n",
    "elapsed_time = end_time - start_time\n",
    "\n",
    "# Printing out the time to train the model in seconds\n",
    "print(\"Time to train model: %.3f seconds\" % elapsed_time)"
   ]
  },
  {
   "cell_type": "markdown",
   "metadata": {
    "id": "LjIA4FPN-3xo"
   },
   "source": [
    "We set up our random forest classifer with 10 tress and this model takes approximately 2 mins to train. "
   ]
  },
  {
   "cell_type": "code",
   "execution_count": 97,
   "metadata": {
    "id": "gqUO1jNiBJaO"
   },
   "outputs": [
    {
     "data": {
      "application/vnd.jupyter.widget-view+json": {
       "model_id": "15334c3173014ecc80b854dd58d10688",
       "version_major": 2,
       "version_minor": 0
      },
      "text/plain": [
       "VBox()"
      ]
     },
     "metadata": {},
     "output_type": "display_data"
    },
    {
     "data": {
      "application/vnd.jupyter.widget-view+json": {
       "model_id": "",
       "version_major": 2,
       "version_minor": 0
      },
      "text/plain": [
       "FloatProgress(value=0.0, bar_style='info', description='Progress:', layout=Layout(height='25px', width='50%'),…"
      ]
     },
     "metadata": {},
     "output_type": "display_data"
    }
   ],
   "source": [
    "# Transforming the data to test model\n",
    "predictions_rf = rf_model.transform(test_data)"
   ]
  },
  {
   "cell_type": "markdown",
   "metadata": {
    "id": "Rx-8zAad_ENd"
   },
   "source": [
    "Then, we tranformed back to our testing data. "
   ]
  },
  {
   "cell_type": "code",
   "execution_count": 98,
   "metadata": {
    "id": "62K0mh3QCeTz"
   },
   "outputs": [
    {
     "data": {
      "application/vnd.jupyter.widget-view+json": {
       "model_id": "9985cf4a4de04b38905261f6648ec20c",
       "version_major": 2,
       "version_minor": 0
      },
      "text/plain": [
       "VBox()"
      ]
     },
     "metadata": {},
     "output_type": "display_data"
    },
    {
     "data": {
      "application/vnd.jupyter.widget-view+json": {
       "model_id": "",
       "version_major": 2,
       "version_minor": 0
      },
      "text/plain": [
       "FloatProgress(value=0.0, bar_style='info', description='Progress:', layout=Layout(height='25px', width='50%'),…"
      ]
     },
     "metadata": {},
     "output_type": "display_data"
    }
   ],
   "source": [
    "# Selecting the columns and assigning to a new variable \n",
    "results_rf = predictions_rf.select('label', 'probability', 'prediction')"
   ]
  },
  {
   "cell_type": "markdown",
   "metadata": {
    "id": "-UflcHwQ_IA4"
   },
   "source": [
    "We slected the required columns for evaluations. "
   ]
  },
  {
   "cell_type": "code",
   "execution_count": 99,
   "metadata": {
    "colab": {
     "base_uri": "https://localhost:8080/"
    },
    "id": "_SnaAChTCpBZ",
    "outputId": "1bc67c07-17b9-4045-fce5-479003f22e00"
   },
   "outputs": [
    {
     "data": {
      "application/vnd.jupyter.widget-view+json": {
       "model_id": "cbe1587c4c094a1588c77c66e738dcf7",
       "version_major": 2,
       "version_minor": 0
      },
      "text/plain": [
       "VBox()"
      ]
     },
     "metadata": {},
     "output_type": "display_data"
    },
    {
     "data": {
      "application/vnd.jupyter.widget-view+json": {
       "model_id": "",
       "version_major": 2,
       "version_minor": 0
      },
      "text/plain": [
       "FloatProgress(value=0.0, bar_style='info', description='Progress:', layout=Layout(height='25px', width='50%'),…"
      ]
     },
     "metadata": {},
     "output_type": "display_data"
    },
    {
     "name": "stdout",
     "output_type": "stream",
     "text": [
      "(0.8008346799543602, 0.8166333365229521, 0.8237418190024826)"
     ]
    }
   ],
   "source": [
    "#evaluate performance of the multinomial model (7 classes)\n",
    "evaluator_rf = ev.MulticlassClassificationEvaluator(\n",
    "    predictionCol='prediction'\n",
    "    , labelCol='label')\n",
    "\n",
    "(\n",
    "    #F-1 score\n",
    "    evaluator_rf.evaluate(results_rf)\n",
    "    #weighted precision\n",
    "    , evaluator_rf.evaluate(\n",
    "        results_rf\n",
    "        , {evaluator_rf.metricName: 'weightedPrecision'}\n",
    "    ) \n",
    "    #accuracy\n",
    "    , evaluator_rf.evaluate(\n",
    "        results_rf\n",
    "        , {evaluator_rf.metricName: 'accuracy'}\n",
    "    )\n",
    ")"
   ]
  },
  {
   "cell_type": "markdown",
   "metadata": {
    "id": "f05YXVn1_N82"
   },
   "source": [
    "For our random forest model, the accuracy is approximately 82% with 0.80 F1 score and 0.82 weighted precision. So far, our logitic regression is higher accuracy with 84%. "
   ]
  },
  {
   "cell_type": "markdown",
   "metadata": {
    "id": "PLyy4fBBEtHp"
   },
   "source": [
    "# Hyperparametertuning for Logistic Regression"
   ]
  },
  {
   "cell_type": "code",
   "execution_count": 100,
   "metadata": {
    "id": "FlGYVa34LYm8"
   },
   "outputs": [
    {
     "data": {
      "application/vnd.jupyter.widget-view+json": {
       "model_id": "465c41693f314d69957ff38b4690f4fe",
       "version_major": 2,
       "version_minor": 0
      },
      "text/plain": [
       "VBox()"
      ]
     },
     "metadata": {},
     "output_type": "display_data"
    },
    {
     "data": {
      "application/vnd.jupyter.widget-view+json": {
       "model_id": "",
       "version_major": 2,
       "version_minor": 0
      },
      "text/plain": [
       "FloatProgress(value=0.0, bar_style='info', description='Progress:', layout=Layout(height='25px', width='50%'),…"
      ]
     },
     "metadata": {},
     "output_type": "display_data"
    }
   ],
   "source": [
    "import pyspark.ml.tuning as tune\n",
    "\n",
    "# Using ParamGridBuilder to build a grid of parameters\n",
    "logReg_grid = (\n",
    "    tune.ParamGridBuilder()\n",
    "\n",
    "    # 2 values for regParam\n",
    "    .addGrid(lr.regParam\n",
    "            , [0.01, 0.1]\n",
    "        )\n",
    "    \n",
    "    # 2 values for elasticNetParam\n",
    "    .addGrid(lr.elasticNetParam\n",
    "            , [1.0, 0.5]\n",
    "        )\n",
    "    .build()\n",
    ")"
   ]
  },
  {
   "cell_type": "markdown",
   "metadata": {
    "id": "X1v-VfZk_o6O"
   },
   "source": [
    "For hyper parameter tuning, we set up our grid with both regparam and eleasticnetparam. "
   ]
  },
  {
   "cell_type": "code",
   "execution_count": 101,
   "metadata": {
    "id": "aNnmZX-HLie1"
   },
   "outputs": [
    {
     "data": {
      "application/vnd.jupyter.widget-view+json": {
       "model_id": "f2f1df90d6c34bc49d4c68017d676728",
       "version_major": 2,
       "version_minor": 0
      },
      "text/plain": [
       "VBox()"
      ]
     },
     "metadata": {},
     "output_type": "display_data"
    },
    {
     "data": {
      "application/vnd.jupyter.widget-view+json": {
       "model_id": "",
       "version_major": 2,
       "version_minor": 0
      },
      "text/plain": [
       "FloatProgress(value=0.0, bar_style='info', description='Progress:', layout=Layout(height='25px', width='50%'),…"
      ]
     },
     "metadata": {},
     "output_type": "display_data"
    }
   ],
   "source": [
    "# Marking the time before fitting the model\n",
    "start_time = time()\n",
    "\n",
    "# Initializing CrossValidator\n",
    "# Default K value is 3\n",
    "cv_lr= tune.CrossValidator(\n",
    "    estimator=lr\n",
    "    , estimatorParamMaps=logReg_grid\n",
    "    , evaluator=evaluator\n",
    ")"
   ]
  },
  {
   "cell_type": "markdown",
   "metadata": {
    "id": "tcd_gStw_xfa"
   },
   "source": [
    "Then, we set up our crossvalidator. "
   ]
  },
  {
   "cell_type": "code",
   "execution_count": 102,
   "metadata": {
    "colab": {
     "base_uri": "https://localhost:8080/"
    },
    "id": "TKO1HsxbNLva",
    "outputId": "4044d6ea-0323-45a9-a7c4-0bcde50409b5"
   },
   "outputs": [
    {
     "data": {
      "application/vnd.jupyter.widget-view+json": {
       "model_id": "d2480f68b6c742cea12a0065a2ef12e4",
       "version_major": 2,
       "version_minor": 0
      },
      "text/plain": [
       "VBox()"
      ]
     },
     "metadata": {},
     "output_type": "display_data"
    },
    {
     "data": {
      "application/vnd.jupyter.widget-view+json": {
       "model_id": "",
       "version_major": 2,
       "version_minor": 0
      },
      "text/plain": [
       "FloatProgress(value=0.0, bar_style='info', description='Progress:', layout=Layout(height='25px', width='50%'),…"
      ]
     },
     "metadata": {},
     "output_type": "display_data"
    },
    {
     "name": "stderr",
     "output_type": "stream",
     "text": [
      "Exception in thread cell_monitor-102:\n",
      "Traceback (most recent call last):\n",
      "  File \"/emr/notebook-env/lib/python3.7/threading.py\", line 926, in _bootstrap_inner\n",
      "    self.run()\n",
      "  File \"/emr/notebook-env/lib/python3.7/threading.py\", line 870, in run\n",
      "    self._target(*self._args, **self._kwargs)\n",
      "  File \"/emr/notebook-env/lib/python3.7/site-packages/awseditorssparkmonitoringwidget-1.0-py3.7.egg/awseditorssparkmonitoringwidget/cellmonitor.py\", line 178, in cell_monitor\n",
      "    job_binned_stages[job_id][stage_id] = all_stages[stage_id]\n",
      "KeyError: 1697\n",
      "\n"
     ]
    },
    {
     "name": "stdout",
     "output_type": "stream",
     "text": [
      "Time to train model: 910.128 seconds"
     ]
    }
   ],
   "source": [
    "# Running cross validations\n",
    "# It will take forever\n",
    "cvModel = cv_lr.fit(train_data)\n",
    "\n",
    "# Marking the time after fitting the model\n",
    "end_time = time()\n",
    "\n",
    "# Calculating the duration \n",
    "elapsed_time = end_time - start_time\n",
    "\n",
    "# Printing the time to train model in seconds\n",
    "print(\"Time to train model: %.3f seconds\" % elapsed_time)"
   ]
  },
  {
   "cell_type": "markdown",
   "metadata": {
    "id": "SP2WBoS6_4dg"
   },
   "source": [
    "We fiited the model into the training data and approximately it took 15 mins. "
   ]
  },
  {
   "cell_type": "code",
   "execution_count": 103,
   "metadata": {
    "id": "EqEj5uSRQuGQ"
   },
   "outputs": [
    {
     "data": {
      "application/vnd.jupyter.widget-view+json": {
       "model_id": "a016c87423874811847590f3046ee918",
       "version_major": 2,
       "version_minor": 0
      },
      "text/plain": [
       "VBox()"
      ]
     },
     "metadata": {},
     "output_type": "display_data"
    },
    {
     "data": {
      "application/vnd.jupyter.widget-view+json": {
       "model_id": "",
       "version_major": 2,
       "version_minor": 0
      },
      "text/plain": [
       "FloatProgress(value=0.0, bar_style='info', description='Progress:', layout=Layout(height='25px', width='50%'),…"
      ]
     },
     "metadata": {},
     "output_type": "display_data"
    }
   ],
   "source": [
    "# Fitting the model into testig dataset\n",
    "prediction_lr_hyper = cvModel.transform(test_data)"
   ]
  },
  {
   "cell_type": "markdown",
   "metadata": {
    "id": "oz3Ok1LRAGBg"
   },
   "source": [
    "Then we transformed into our test data. "
   ]
  },
  {
   "cell_type": "code",
   "execution_count": 104,
   "metadata": {
    "id": "yjxTQ84wqZTC"
   },
   "outputs": [
    {
     "data": {
      "application/vnd.jupyter.widget-view+json": {
       "model_id": "a672110687ee411cb78c025fa5827b06",
       "version_major": 2,
       "version_minor": 0
      },
      "text/plain": [
       "VBox()"
      ]
     },
     "metadata": {},
     "output_type": "display_data"
    },
    {
     "data": {
      "application/vnd.jupyter.widget-view+json": {
       "model_id": "",
       "version_major": 2,
       "version_minor": 0
      },
      "text/plain": [
       "FloatProgress(value=0.0, bar_style='info', description='Progress:', layout=Layout(height='25px', width='50%'),…"
      ]
     },
     "metadata": {},
     "output_type": "display_data"
    }
   ],
   "source": [
    "import pyspark.ml.evaluation as ev\n",
    "\n",
    "# Setting Multiclass function evaluator\n",
    "logReg_ev = ev.MulticlassClassificationEvaluator(\n",
    "    predictionCol='prediction'\n",
    "    , labelCol='label')"
   ]
  },
  {
   "cell_type": "markdown",
   "metadata": {
    "id": "0MSjwAuuAJ21"
   },
   "source": [
    "We set up our evaluator with prediction and our dependent column label. "
   ]
  },
  {
   "cell_type": "code",
   "execution_count": 105,
   "metadata": {
    "colab": {
     "base_uri": "https://localhost:8080/"
    },
    "id": "b4_AIlt2qf5m",
    "outputId": "3d429d71-d1e8-4136-e978-d94ec6103cc4"
   },
   "outputs": [
    {
     "data": {
      "application/vnd.jupyter.widget-view+json": {
       "model_id": "e1ded25b89ce4b3e94f3937e6d539023",
       "version_major": 2,
       "version_minor": 0
      },
      "text/plain": [
       "VBox()"
      ]
     },
     "metadata": {},
     "output_type": "display_data"
    },
    {
     "data": {
      "application/vnd.jupyter.widget-view+json": {
       "model_id": "",
       "version_major": 2,
       "version_minor": 0
      },
      "text/plain": [
       "FloatProgress(value=0.0, bar_style='info', description='Progress:', layout=Layout(height='25px', width='50%'),…"
      ]
     },
     "metadata": {},
     "output_type": "display_data"
    },
    {
     "name": "stdout",
     "output_type": "stream",
     "text": [
      "0.8314005762665297\n",
      "0.8399909726923944\n",
      "0.8399909726923945"
     ]
    }
   ],
   "source": [
    "# Printing out the weightedPrecision, weightedRecall, and Accuracy of the model\n",
    "print(logReg_ev.evaluate(prediction_lr_hyper, {logReg_ev.metricName: 'weightedPrecision'}))\n",
    "print(logReg_ev.evaluate(prediction_lr_hyper, {logReg_ev.metricName: 'weightedRecall'}))\n",
    "print(logReg_ev.evaluate(prediction_lr_hyper, {logReg_ev.metricName: 'accuracy'}))"
   ]
  },
  {
   "cell_type": "markdown",
   "metadata": {
    "id": "2iKE6hc9AQ5L"
   },
   "source": [
    "After hyper tuning, our accuracy for logistic regression went up to 84% with 0.84 weighted precision and recall. "
   ]
  },
  {
   "cell_type": "markdown",
   "metadata": {
    "id": "5bmsw9C_q7XN"
   },
   "source": [
    "# Hyperparameter tuning for random forest"
   ]
  },
  {
   "cell_type": "code",
   "execution_count": 106,
   "metadata": {
    "id": "Q-Ql6Uh-rAuV"
   },
   "outputs": [
    {
     "data": {
      "application/vnd.jupyter.widget-view+json": {
       "model_id": "296f4a95088d4e8e935467f6a8b1d422",
       "version_major": 2,
       "version_minor": 0
      },
      "text/plain": [
       "VBox()"
      ]
     },
     "metadata": {},
     "output_type": "display_data"
    },
    {
     "data": {
      "application/vnd.jupyter.widget-view+json": {
       "model_id": "",
       "version_major": 2,
       "version_minor": 0
      },
      "text/plain": [
       "FloatProgress(value=0.0, bar_style='info', description='Progress:', layout=Layout(height='25px', width='50%'),…"
      ]
     },
     "metadata": {},
     "output_type": "display_data"
    }
   ],
   "source": [
    "# Using ParamGridBuilder to build a grid of parameters\n",
    "paramGrid_rfc = (\n",
    "    tune.ParamGridBuilder()\n",
    "    # Selecting numbers of trees\n",
    "    .addGrid(rf.numTrees\n",
    "            , [10, 30]\n",
    "        )\n",
    "    .build()\n",
    ")"
   ]
  },
  {
   "cell_type": "markdown",
   "metadata": {
    "id": "o3WW36IlAr6m"
   },
   "source": [
    "Now, we set up our gridbuilder for our random forest model with 2 trees values. "
   ]
  },
  {
   "cell_type": "code",
   "execution_count": 107,
   "metadata": {
    "id": "SexHd38Ssran"
   },
   "outputs": [
    {
     "data": {
      "application/vnd.jupyter.widget-view+json": {
       "model_id": "4ab2e8bffda94ade92d40b0faefdd25d",
       "version_major": 2,
       "version_minor": 0
      },
      "text/plain": [
       "VBox()"
      ]
     },
     "metadata": {},
     "output_type": "display_data"
    },
    {
     "data": {
      "application/vnd.jupyter.widget-view+json": {
       "model_id": "",
       "version_major": 2,
       "version_minor": 0
      },
      "text/plain": [
       "FloatProgress(value=0.0, bar_style='info', description='Progress:', layout=Layout(height='25px', width='50%'),…"
      ]
     },
     "metadata": {},
     "output_type": "display_data"
    }
   ],
   "source": [
    "# Marking the time before fitting the model\n",
    "start_time = time()\n",
    "\n",
    "# Initializing CrossValidator\n",
    "cv_rfc= tune.CrossValidator(\n",
    "    estimator=rf\n",
    "    , estimatorParamMaps=paramGrid_rfc \n",
    "    , evaluator=evaluator\n",
    ")"
   ]
  },
  {
   "cell_type": "markdown",
   "metadata": {
    "id": "G06IThGEA5g-"
   },
   "source": [
    "We set up our crossvalidator with our random forest as estimator, grid builder, and evaluator. "
   ]
  },
  {
   "cell_type": "code",
   "execution_count": 108,
   "metadata": {
    "colab": {
     "base_uri": "https://localhost:8080/"
    },
    "id": "v-LadGfHs7Ri",
    "outputId": "4dab6b47-918e-4f27-e2b5-9190cf19435c"
   },
   "outputs": [
    {
     "data": {
      "application/vnd.jupyter.widget-view+json": {
       "model_id": "7a45fba9a02d4791a8c8fd99da0acc80",
       "version_major": 2,
       "version_minor": 0
      },
      "text/plain": [
       "VBox()"
      ]
     },
     "metadata": {},
     "output_type": "display_data"
    },
    {
     "data": {
      "application/vnd.jupyter.widget-view+json": {
       "model_id": "",
       "version_major": 2,
       "version_minor": 0
      },
      "text/plain": [
       "FloatProgress(value=0.0, bar_style='info', description='Progress:', layout=Layout(height='25px', width='50%'),…"
      ]
     },
     "metadata": {},
     "output_type": "display_data"
    },
    {
     "name": "stderr",
     "output_type": "stream",
     "text": [
      "Exception in thread cell_monitor-108:\n",
      "Traceback (most recent call last):\n",
      "  File \"/emr/notebook-env/lib/python3.7/threading.py\", line 926, in _bootstrap_inner\n",
      "    self.run()\n",
      "  File \"/emr/notebook-env/lib/python3.7/threading.py\", line 870, in run\n",
      "    self._target(*self._args, **self._kwargs)\n",
      "  File \"/emr/notebook-env/lib/python3.7/site-packages/awseditorssparkmonitoringwidget-1.0-py3.7.egg/awseditorssparkmonitoringwidget/cellmonitor.py\", line 178, in cell_monitor\n",
      "    job_binned_stages[job_id][stage_id] = all_stages[stage_id]\n",
      "KeyError: 10396\n",
      "\n"
     ]
    },
    {
     "name": "stdout",
     "output_type": "stream",
     "text": [
      "Time to train model: 340.029 seconds"
     ]
    }
   ],
   "source": [
    "# Runing cross validations\n",
    "cvModel_rfc = cv_rfc.fit(train_data)\n",
    "\n",
    "# Marking the end time after fitting model\n",
    "end_time = time()\n",
    "\n",
    "# Calculating the duration of the time\n",
    "elapsed_time = end_time - start_time\n",
    "\n",
    "# Printing the time to train model in seconds\n",
    "print(\"Time to train model: %.3f seconds\" % elapsed_time)"
   ]
  },
  {
   "cell_type": "markdown",
   "metadata": {
    "id": "FqfsxrZNBGU9"
   },
   "source": [
    "Then we fitted into our training data and approximately it took 5 mins to finish. "
   ]
  },
  {
   "cell_type": "code",
   "execution_count": 109,
   "metadata": {
    "id": "wm6Y7DVftQNe"
   },
   "outputs": [
    {
     "data": {
      "application/vnd.jupyter.widget-view+json": {
       "model_id": "e6ae21b5da7c4cd39012784ab10040ab",
       "version_major": 2,
       "version_minor": 0
      },
      "text/plain": [
       "VBox()"
      ]
     },
     "metadata": {},
     "output_type": "display_data"
    },
    {
     "data": {
      "application/vnd.jupyter.widget-view+json": {
       "model_id": "",
       "version_major": 2,
       "version_minor": 0
      },
      "text/plain": [
       "FloatProgress(value=0.0, bar_style='info', description='Progress:', layout=Layout(height='25px', width='50%'),…"
      ]
     },
     "metadata": {},
     "output_type": "display_data"
    }
   ],
   "source": [
    "# Transfroming the model into test data\n",
    "prediction_rfc_hyper = cvModel_rfc.transform(test_data)"
   ]
  },
  {
   "cell_type": "markdown",
   "metadata": {
    "id": "vCHnprmJBOTZ"
   },
   "source": [
    "We transfomed into our test data. "
   ]
  },
  {
   "cell_type": "code",
   "execution_count": 110,
   "metadata": {
    "id": "MdcrkGs2tYDL"
   },
   "outputs": [
    {
     "data": {
      "application/vnd.jupyter.widget-view+json": {
       "model_id": "6eeff5f421324239afa8bd153ea94763",
       "version_major": 2,
       "version_minor": 0
      },
      "text/plain": [
       "VBox()"
      ]
     },
     "metadata": {},
     "output_type": "display_data"
    },
    {
     "data": {
      "application/vnd.jupyter.widget-view+json": {
       "model_id": "",
       "version_major": 2,
       "version_minor": 0
      },
      "text/plain": [
       "FloatProgress(value=0.0, bar_style='info', description='Progress:', layout=Layout(height='25px', width='50%'),…"
      ]
     },
     "metadata": {},
     "output_type": "display_data"
    }
   ],
   "source": [
    "# Setting multiclass function evaluator\n",
    "rfc_ev = ev.MulticlassClassificationEvaluator(\n",
    "    predictionCol='prediction'\n",
    "    , labelCol='label')"
   ]
  },
  {
   "cell_type": "markdown",
   "metadata": {
    "id": "CAxtXxxNBRuQ"
   },
   "source": [
    "We set up our evaluator with predition and label. "
   ]
  },
  {
   "cell_type": "code",
   "execution_count": 111,
   "metadata": {
    "colab": {
     "base_uri": "https://localhost:8080/"
    },
    "id": "sN5Zeu_guh6P",
    "outputId": "d581bf2a-99b6-442f-df0f-756e59bcb4a1"
   },
   "outputs": [
    {
     "data": {
      "application/vnd.jupyter.widget-view+json": {
       "model_id": "3fc1a9dfc6924b5caf8e97a6dcef892d",
       "version_major": 2,
       "version_minor": 0
      },
      "text/plain": [
       "VBox()"
      ]
     },
     "metadata": {},
     "output_type": "display_data"
    },
    {
     "data": {
      "application/vnd.jupyter.widget-view+json": {
       "model_id": "",
       "version_major": 2,
       "version_minor": 0
      },
      "text/plain": [
       "FloatProgress(value=0.0, bar_style='info', description='Progress:', layout=Layout(height='25px', width='50%'),…"
      ]
     },
     "metadata": {},
     "output_type": "display_data"
    },
    {
     "name": "stdout",
     "output_type": "stream",
     "text": [
      "0.8166333365229521\n",
      "0.8237418190024826\n",
      "0.8237418190024826"
     ]
    }
   ],
   "source": [
    "# Printing out the weightedPrecision, weightedRecall, and Accuracy of the random forest model\n",
    "print(rfc_ev.evaluate(prediction_rfc_hyper, {rfc_ev.metricName: 'weightedPrecision'}))\n",
    "print(rfc_ev.evaluate(prediction_rfc_hyper, {rfc_ev.metricName: 'weightedRecall'}))\n",
    "print(rfc_ev.evaluate(prediction_rfc_hyper, {rfc_ev.metricName: 'accuracy'}))"
   ]
  },
  {
   "cell_type": "code",
   "execution_count": 112,
   "metadata": {
    "colab": {
     "base_uri": "https://localhost:8080/"
    },
    "id": "oINcKC6hDNl0",
    "outputId": "79b15e8b-0d8c-4979-b77a-2f9f2f756a81"
   },
   "outputs": [
    {
     "data": {
      "application/vnd.jupyter.widget-view+json": {
       "model_id": "f8602518bd80419fb9b016332f624740",
       "version_major": 2,
       "version_minor": 0
      },
      "text/plain": [
       "VBox()"
      ]
     },
     "metadata": {},
     "output_type": "display_data"
    },
    {
     "data": {
      "application/vnd.jupyter.widget-view+json": {
       "model_id": "",
       "version_major": 2,
       "version_minor": 0
      },
      "text/plain": [
       "FloatProgress(value=0.0, bar_style='info', description='Progress:', layout=Layout(height='25px', width='50%'),…"
      ]
     },
     "metadata": {},
     "output_type": "display_data"
    },
    {
     "name": "stdout",
     "output_type": "stream",
     "text": [
      "0.8314005762665297\n",
      "0.8399909726923944\n",
      "0.8399909726923945"
     ]
    }
   ],
   "source": [
    "# Printing out the weightedPrecision, weightedRecall, and Accuracy of the logistic regression model\n",
    "print(logReg_ev.evaluate(prediction_lr_hyper, {logReg_ev.metricName: 'weightedPrecision'}))\n",
    "print(logReg_ev.evaluate(prediction_lr_hyper, {logReg_ev.metricName: 'weightedRecall'}))\n",
    "print(logReg_ev.evaluate(prediction_lr_hyper, {logReg_ev.metricName: 'accuracy'}))"
   ]
  },
  {
   "cell_type": "markdown",
   "metadata": {
    "id": "65mo8ANKBXsl"
   },
   "source": [
    "After hyper tuning of our random forest model, the accuracy actually went down a few decimal with 0.82 weighted precision and recall. From the two methods that we used, logistic regression with a higher accuracy score of 84%. "
   ]
  },
  {
   "cell_type": "markdown",
   "metadata": {
    "id": "vXiOPjo4KdOt"
   },
   "source": [
    "# Final Analysis"
   ]
  },
  {
   "cell_type": "markdown",
   "metadata": {
    "id": "JmaUZVg3KbOc"
   },
   "source": [
    "When we began this project, we were attempting to find what caused adults to earn over 50K a year and if certain features affected income more than others and we did find the answer to this and more. We found that higher education numbers and higher hours worked had the strongest impact on if an individual earned more than 50K a year. We then created a model that predicts whether or not an adult earned more than 50k a year based on their traits, our highest-rated model had an accuracy score of 84% and we now have a decently accurate model to predict adult income. We also found that most people who earn over 50K a year are middle-aged adults with above-average education levels. Those who earn less than 50K a year are quite evenly distributed but skew towards the younger ages."
   ]
  }
 ],
 "metadata": {
  "colab": {
   "collapsed_sections": [],
   "name": "Final_1",
   "provenance": []
  },
  "kernelspec": {
   "display_name": "PySpark",
   "language": "",
   "name": "pysparkkernel"
  },
  "language_info": {
   "codemirror_mode": {
    "name": "python",
    "version": 3
   },
   "mimetype": "text/x-python",
   "name": "pyspark",
   "pygments_lexer": "python3"
  }
 },
 "nbformat": 4,
 "nbformat_minor": 1
}
